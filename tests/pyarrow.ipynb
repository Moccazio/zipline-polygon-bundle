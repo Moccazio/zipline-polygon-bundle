{
 "cells": [
  {
   "cell_type": "code",
   "execution_count": 231,
   "metadata": {},
   "outputs": [],
   "source": [
    "import pyarrow as pa\n",
    "from pyarrow import csv, parquet\n",
    "from pyarrow import dataset as pads\n",
    "from pathlib import Path\n",
    "import pandas as pd\n",
    "\n",
    "from config import PolygonConfig"
   ]
  },
  {
   "cell_type": "code",
   "execution_count": 221,
   "metadata": {},
   "outputs": [],
   "source": [
    "environ = {\n",
    "    # \"POLYGON_DATA_DIR\": \"../data/polygon\",\n",
    "    \"POLYGON_DATA_DIR\": \"/Volumes/Oahu/Mirror/files.polygon.io\",\n",
    "    \"POLYGON_AGG_TIME\": \"day\",\n",
    "}\n",
    "\n",
    "config = PolygonConfig(\n",
    "    environ=environ,\n",
    "    calendar_name=\"XNYS\",\n",
    "    start_session=\"2010-10-07\",\n",
    "    end_session=\"2010-10-15\",\n",
    "    # start_session=\"2003-10-01\",\n",
    "    # start_session=\"2018-01-01\",\n",
    "    # start_session=\"2023-01-01\",\n",
    "    # end_session=\"2023-01-12\",\n",
    "    # end_session=\"2023-12-31\",\n",
    "    # end_session=\"2024-06-30\",\n",
    ")"
   ]
  },
  {
   "cell_type": "code",
   "execution_count": 222,
   "metadata": {},
   "outputs": [
    {
     "name": "stdout",
     "output_type": "stream",
     "text": [
      "test_csv_path.exists()=True\n"
     ]
    },
    {
     "data": {
      "text/plain": [
       "PosixPath('/Volumes/Oahu/Mirror/files.polygon.io/flatfiles/us_stocks_sip/day_aggs_v1/2020/10/2020-10-07.csv.gz')"
      ]
     },
     "execution_count": 222,
     "metadata": {},
     "output_type": "execute_result"
    }
   ],
   "source": [
    "test_csv_path = Path(config.aggs_dir) / \"2020/10/2020-10-07.csv.gz\"\n",
    "print(f\"{test_csv_path.exists()=}\")\n",
    "test_csv_path"
   ]
  },
  {
   "cell_type": "markdown",
   "metadata": {},
   "source": [
    "The Polygon historical flatfile docs say Minute Aggregates have millisecond timestamps (like the Day Aggregates) but they actually have nanosecond timestamps (like Trades).\n",
    "https://polygon.io/flat-files/stocks-min-aggs?stocks-min-aggs=documentation\n",
    "\n",
    "I reported this to them in June 2024 and it (the docs, I don't think the resolution should change) hasn't been corrected as of September (I did ping them again).\n",
    "\n",
    "Actually just discovered the Day Aggs are nanosecond resolution also (I had been working only on minute bars)."
   ]
  },
  {
   "cell_type": "code",
   "execution_count": 223,
   "metadata": {},
   "outputs": [
    {
     "data": {
      "text/plain": [
       "ticker: string not null\n",
       "volume: int64 not null\n",
       "open: double not null\n",
       "close: double not null\n",
       "high: double not null\n",
       "low: double not null\n",
       "window_start: int64 not null\n",
       "transactions: int64 not null"
      ]
     },
     "execution_count": 223,
     "metadata": {},
     "output_type": "execute_result"
    }
   ],
   "source": [
    "# Polygon Aggregate flatfile timestamps are in nanoseconds (like trades), not milliseconds as the docs say.\n",
    "# I make the timestamp timezone-aware because that's how Unix timestamps work and it may help avoid mistakes.\n",
    "timestamp_type = pa.timestamp('ns', tz='UTC')\n",
    "\n",
    "# But we can;t use the timestamp type in the schema here because it's not supported by the CSV reader.\n",
    "# So we'll use int64 and cast it later.\n",
    "\n",
    "# strptime(3) (used by CSV reader for timestamps in ConvertOptions.timestamp_parsers) supports Unix timestamps (%s) and milliseconds (%f) but not nanoseconds.\n",
    "# https://www.geeksforgeeks.org/how-to-use-strptime-with-milliseconds-in-python/\n",
    "# Actually that's the wrong strptime (it's Python's).  C++ strptime(3) doesn't even support %f.\n",
    "# https://github.com/apache/arrow/issues/39839#issuecomment-1915981816\n",
    "# Also I don't think you can use those in a format string without a separator.\n",
    "# This seems weird given (Py)Arrow's high-performance focus so maybe I'm missing something.\n",
    "\n",
    "# Polygon price scale is 4 decimal places (i.e. hundredths of a penny), but we'll use 10 because we have precision to spare.\n",
    "# price_type = pa.decimal128(precision=38, scale=10)\n",
    "price_type = pa.float64()\n",
    "\n",
    "polygon_aggs_schema = pa.schema([\n",
    "    pa.field('ticker', pa.string(), nullable=False),\n",
    "    pa.field('volume', pa.int64(), nullable=False),\n",
    "    pa.field('open', price_type, nullable=False),\n",
    "    pa.field('close', price_type, nullable=False),\n",
    "    pa.field('high', price_type, nullable=False),\n",
    "    pa.field('low', price_type, nullable=False),\n",
    "    pa.field('window_start', pa.int64(), nullable=False),\n",
    "    pa.field('transactions', pa.int64(), nullable=False),\n",
    "])\n",
    "polygon_aggs_schema"
   ]
  },
  {
   "cell_type": "code",
   "execution_count": 224,
   "metadata": {},
   "outputs": [
    {
     "data": {
      "text/plain": [
       "pyarrow.Table\n",
       "ticker: string\n",
       "volume: int64\n",
       "open: double\n",
       "close: double\n",
       "high: double\n",
       "low: double\n",
       "window_start: int64\n",
       "transactions: int64\n",
       "----\n",
       "ticker: [[\"A\",\"AA\",\"AAA\",\"AAAU\",\"AACG\",...,\"ZVZZT\",\"ZXIET\",\"ZYME\",\"ZYNE\",\"ZYXI\"]]\n",
       "volume: [[1322141,3921229,3774,449029,6447,...,1100960,4000,225817,284131,469532]]\n",
       "open: [[102.47,11.96,24.9017,18.8,1.115,...,10.05,100,43.99,3.51,19.21]]\n",
       "close: [[103.88,12.24,24.9,18.8,1.1,...,10,100,45.06,3.57,19.38]]\n",
       "high: [[104.75,12.3,24.91,18.82,1.115,...,10.05,100,45.68,3.6162,19.73]]\n",
       "low: [[102.42,11.96,24.9,18.73,1.095,...,10,100,43.74,3.4866,19.02]]\n",
       "window_start: [[1602043200000000000,1602043200000000000,1602043200000000000,1602043200000000000,1602043200000000000,...,1602043200000000000,1602043200000000000,1602043200000000000,1602043200000000000,1602043200000000000]]\n",
       "transactions: [[14803,22909,28,596,89,...,10831,2,2475,1919,4861]]"
      ]
     },
     "execution_count": 224,
     "metadata": {},
     "output_type": "execute_result"
    }
   ],
   "source": [
    "convert_options = csv.ConvertOptions(\n",
    "    column_types=polygon_aggs_schema,\n",
    "    strings_can_be_null=False,\n",
    "    quoted_strings_can_be_null=False,\n",
    ")\n",
    "table = csv.read_csv(test_csv_path, convert_options=convert_options)\n",
    "\n",
    "table"
   ]
  },
  {
   "cell_type": "code",
   "execution_count": 225,
   "metadata": {},
   "outputs": [
    {
     "data": {
      "text/plain": [
       "pyarrow.Table\n",
       "ticker: string\n",
       "volume: int64\n",
       "open: double\n",
       "close: double\n",
       "high: double\n",
       "low: double\n",
       "window_start: timestamp[ns, tz=UTC]\n",
       "transactions: int64\n",
       "----\n",
       "ticker: [[\"A\",\"AA\",\"AAA\",\"AAAU\",\"AACG\",...,\"ZVZZT\",\"ZXIET\",\"ZYME\",\"ZYNE\",\"ZYXI\"]]\n",
       "volume: [[1322141,3921229,3774,449029,6447,...,1100960,4000,225817,284131,469532]]\n",
       "open: [[102.47,11.96,24.9017,18.8,1.115,...,10.05,100,43.99,3.51,19.21]]\n",
       "close: [[103.88,12.24,24.9,18.8,1.1,...,10,100,45.06,3.57,19.38]]\n",
       "high: [[104.75,12.3,24.91,18.82,1.115,...,10.05,100,45.68,3.6162,19.73]]\n",
       "low: [[102.42,11.96,24.9,18.73,1.095,...,10,100,43.74,3.4866,19.02]]\n",
       "window_start: [[2020-10-07 04:00:00.000000000Z,2020-10-07 04:00:00.000000000Z,2020-10-07 04:00:00.000000000Z,2020-10-07 04:00:00.000000000Z,2020-10-07 04:00:00.000000000Z,...,2020-10-07 04:00:00.000000000Z,2020-10-07 04:00:00.000000000Z,2020-10-07 04:00:00.000000000Z,2020-10-07 04:00:00.000000000Z,2020-10-07 04:00:00.000000000Z]]\n",
       "transactions: [[14803,22909,28,596,89,...,10831,2,2475,1919,4861]]"
      ]
     },
     "execution_count": 225,
     "metadata": {},
     "output_type": "execute_result"
    }
   ],
   "source": [
    "window_start_int64 = table.column(\"window_start\")\n",
    "window_start_timestamp = window_start_int64.cast(timestamp_type)\n",
    "\n",
    "new_table = table.set_column(\n",
    "        table.column_names.index('window_start'),\n",
    "        'window_start',\n",
    "        window_start_timestamp\n",
    ")\n",
    "new_table"
   ]
  },
  {
   "cell_type": "code",
   "execution_count": 226,
   "metadata": {},
   "outputs": [
    {
     "data": {
      "text/plain": [
       "ticker: string\n",
       "volume: int64\n",
       "open: double\n",
       "close: double\n",
       "high: double\n",
       "low: double\n",
       "window_start: timestamp[ns, tz=UTC]\n",
       "transactions: int64"
      ]
     },
     "execution_count": 226,
     "metadata": {},
     "output_type": "execute_result"
    }
   ],
   "source": [
    "new_table.schema"
   ]
  },
  {
   "cell_type": "code",
   "execution_count": 228,
   "metadata": {},
   "outputs": [
    {
     "data": {
      "text/plain": [
       "[{'values': Timestamp('2020-10-07 04:00:00+0000', tz='UTC'), 'counts': 8926}]"
      ]
     },
     "execution_count": 228,
     "metadata": {},
     "output_type": "execute_result"
    }
   ],
   "source": [
    "new_table.column(\"window_start\").value_counts().tolist()"
   ]
  },
  {
   "cell_type": "code",
   "execution_count": null,
   "metadata": {},
   "outputs": [],
   "source": [
    "character = 'A'\n",
    "hex_code = hex(ord(character))\n",
    "hex_string = hex_code[2:].upper()\n",
    "print(hex_string)"
   ]
  },
  {
   "cell_type": "code",
   "execution_count": 346,
   "metadata": {},
   "outputs": [
    {
     "data": {
      "text/plain": [
       "'BC^P%2CL%2E9'"
      ]
     },
     "execution_count": 346,
     "metadata": {},
     "output_type": "execute_result"
    }
   ],
   "source": [
    "def partition_key_escape(c: str) -> str:\n",
    "    if c.islower():\n",
    "        return \"^\" + c.upper()\n",
    "    return \"%\" + \"%02X\" % ord(c)\n",
    "def ticker_to_partition_key(ticker: str) -> str:\n",
    "    if ticker.isupper():\n",
    "        return ticker\n",
    "    return \"\".join([f\"{c if c.isupper() or c.isnumeric() else partition_key_escape(c)}\" for c in ticker])\n",
    "ticker_to_partition_key(\"BCp,L.9\")"
   ]
  },
  {
   "cell_type": "code",
   "execution_count": 347,
   "metadata": {},
   "outputs": [
    {
     "data": {
      "text/plain": [
       "pyarrow.Table\n",
       "ticker: string\n",
       "volume: int64\n",
       "open: double\n",
       "close: double\n",
       "high: double\n",
       "low: double\n",
       "window_start: timestamp[ns, tz=UTC]\n",
       "transactions: int64\n",
       "part: string\n",
       "----\n",
       "ticker: [[\"A\",\"AA\",\"AAA\",\"AAAU\",\"AACG\",...,\"ZVZZT\",\"ZXIET\",\"ZYME\",\"ZYNE\",\"ZYXI\"]]\n",
       "volume: [[1322141,3921229,3774,449029,6447,...,1100960,4000,225817,284131,469532]]\n",
       "open: [[102.47,11.96,24.9017,18.8,1.115,...,10.05,100,43.99,3.51,19.21]]\n",
       "close: [[103.88,12.24,24.9,18.8,1.1,...,10,100,45.06,3.57,19.38]]\n",
       "high: [[104.75,12.3,24.91,18.82,1.115,...,10.05,100,45.68,3.6162,19.73]]\n",
       "low: [[102.42,11.96,24.9,18.73,1.095,...,10,100,43.74,3.4866,19.02]]\n",
       "window_start: [[2020-10-07 04:00:00.000000000Z,2020-10-07 04:00:00.000000000Z,2020-10-07 04:00:00.000000000Z,2020-10-07 04:00:00.000000000Z,2020-10-07 04:00:00.000000000Z,...,2020-10-07 04:00:00.000000000Z,2020-10-07 04:00:00.000000000Z,2020-10-07 04:00:00.000000000Z,2020-10-07 04:00:00.000000000Z,2020-10-07 04:00:00.000000000Z]]\n",
       "transactions: [[14803,22909,28,596,89,...,10831,2,2475,1919,4861]]\n",
       "part: [[\"A\",\"AA\",\"AAA\",\"AAAU\",\"AACG\",...,\"ZVZZT\",\"ZXIET\",\"ZYME\",\"ZYNE\",\"ZYXI\"]]"
      ]
     },
     "execution_count": 347,
     "metadata": {},
     "output_type": "execute_result"
    }
   ],
   "source": [
    "# hive_partition_values = table.column('ticker')\n",
    "# hive_partition_values.to_pylist()\n",
    "hive_table = new_table.append_column('part', pa.array([ticker_to_partition_key(ticker) for ticker in table.column('ticker').to_pylist()]))\n",
    "hive_table"
   ]
  },
  {
   "cell_type": "code",
   "execution_count": 348,
   "metadata": {},
   "outputs": [
    {
     "data": {
      "text/plain": [
       "['BC',\n",
       " 'BCpA',\n",
       " 'BCpB',\n",
       " 'BCpC',\n",
       " 'BCAT',\n",
       " 'BCBP',\n",
       " 'BCC',\n",
       " 'BCD',\n",
       " 'BCDA',\n",
       " 'BCDAW',\n",
       " 'BCE',\n",
       " 'BCEI',\n",
       " 'BCEL',\n",
       " 'BCH',\n",
       " 'BCI',\n",
       " 'BCLI',\n",
       " 'BCM',\n",
       " 'BCML',\n",
       " 'BCO',\n",
       " 'BCOR',\n",
       " 'BCOV',\n",
       " 'BCPC',\n",
       " 'BCRX',\n",
       " 'BCS',\n",
       " 'BCSF',\n",
       " 'BCTG',\n",
       " 'BCV',\n",
       " 'BCVpA',\n",
       " 'BCX',\n",
       " 'BCYC']"
      ]
     },
     "execution_count": 348,
     "metadata": {},
     "output_type": "execute_result"
    }
   ],
   "source": [
    "[s for s in hive_table.column('ticker').to_pylist() if s.startswith(\"BC\")]"
   ]
  },
  {
   "cell_type": "code",
   "execution_count": 352,
   "metadata": {},
   "outputs": [
    {
     "data": {
      "text/plain": [
       "['AIG', 'AIG^PA', 'AIG.WS']"
      ]
     },
     "execution_count": 352,
     "metadata": {},
     "output_type": "execute_result"
    }
   ],
   "source": [
    "[s for s in hive_table.column('part').to_pylist() if s.startswith(\"AIG\")]"
   ]
  },
  {
   "cell_type": "code",
   "execution_count": 351,
   "metadata": {},
   "outputs": [
    {
     "data": {
      "text/plain": [
       "['ACND.U',\n",
       " 'ACND.WS',\n",
       " 'AGM.A',\n",
       " 'AIG.WS',\n",
       " 'AKO.A',\n",
       " 'AKO.B',\n",
       " 'AMBC.WS',\n",
       " 'AONE.U',\n",
       " 'AP.WS',\n",
       " 'APSG.U',\n",
       " 'ASAQ.U',\n",
       " 'ASPL.U',\n",
       " 'AVAN.U',\n",
       " 'BF.A',\n",
       " 'BF.B',\n",
       " 'BFT.U',\n",
       " 'BH.A',\n",
       " 'BMRG.U',\n",
       " 'BMRG.WS',\n",
       " 'BRK.A',\n",
       " 'BRK.B',\n",
       " 'BRMK.WS',\n",
       " 'BSN.U',\n",
       " 'CCAC.WS',\n",
       " 'CCIV.U',\n",
       " 'CCIV.WS',\n",
       " 'CCX.U',\n",
       " 'CCX.WS',\n",
       " 'CCXX.U',\n",
       " 'CCXX.WS',\n",
       " 'CIG.C',\n",
       " 'CLA.U',\n",
       " 'CLII.U',\n",
       " 'CPSR.U',\n",
       " 'CPSR.WS',\n",
       " 'CRD.A',\n",
       " 'CRD.B',\n",
       " 'CRHC.U',\n",
       " 'CWEN.A',\n",
       " 'DEH.U',\n",
       " 'DEH.WS',\n",
       " 'DFNS.WS',\n",
       " 'DGNR.U',\n",
       " 'DGNR.WS',\n",
       " 'DMS.WS',\n",
       " 'DMYD.U',\n",
       " 'DMYD.WS',\n",
       " 'DMYT.U',\n",
       " 'DMYT.WS',\n",
       " 'EBR.B',\n",
       " 'EMPW.U',\n",
       " 'ENPC.U',\n",
       " 'EQD.U',\n",
       " 'FAII.U',\n",
       " 'FAII.WS',\n",
       " 'FEAC.U',\n",
       " 'FEAC.WS',\n",
       " 'FGNA.U',\n",
       " 'FMAC.U',\n",
       " 'FST.U',\n",
       " 'FUSE.U',\n",
       " 'FUSE.WS',\n",
       " 'FVAC.U',\n",
       " 'FVAC.WS',\n",
       " 'GB.WS',\n",
       " 'GEF.B',\n",
       " 'GIK.WS',\n",
       " 'GIX.WS',\n",
       " 'GLEO.U',\n",
       " 'GLEO.WS',\n",
       " 'GOAC.U',\n",
       " 'GOAC.WS',\n",
       " 'GRP.U',\n",
       " 'GSAH.U',\n",
       " 'GSAH.WS',\n",
       " 'GTN.A',\n",
       " 'HEI.A',\n",
       " 'HPX.U',\n",
       " 'HPX.WS',\n",
       " 'HVT.A',\n",
       " 'HYLN.WS',\n",
       " 'HZAC.U',\n",
       " 'IACA.U',\n",
       " 'IMPX.U',\n",
       " 'IPOB.U',\n",
       " 'IPOB.WS',\n",
       " 'IPOC.U',\n",
       " 'IPOC.WS',\n",
       " 'IPV.U',\n",
       " 'IPV.WS',\n",
       " 'JIH.U',\n",
       " 'JIH.WS',\n",
       " 'JW.A',\n",
       " 'JW.B',\n",
       " 'JWS.U',\n",
       " 'JWS.WS',\n",
       " 'KCAC.U',\n",
       " 'KCAC.WS',\n",
       " 'LEAP.U',\n",
       " 'LEN.B',\n",
       " 'LGC.WS',\n",
       " 'LGF.A',\n",
       " 'LGF.B',\n",
       " 'LGVW.U',\n",
       " 'LGVW.WS',\n",
       " 'LOAK.U',\n",
       " 'LOAK.WS',\n",
       " 'MFAC.WS',\n",
       " 'MOG.A',\n",
       " 'NFH.WS',\n",
       " 'NGA.U',\n",
       " 'NSCO.WS',\n",
       " 'NSH.U',\n",
       " 'NSPR.WS',\n",
       " 'OAC.U',\n",
       " 'OAC.WS',\n",
       " 'OACB.U',\n",
       " 'OIBR.C',\n",
       " 'OXY.WS',\n",
       " 'PACE.U',\n",
       " 'PANA.U',\n",
       " 'PBR.A',\n",
       " 'PCPL.WS',\n",
       " 'PDAC.U',\n",
       " 'PHGE.WS',\n",
       " 'PIAI.U',\n",
       " 'PIC.U',\n",
       " 'PIC.WS',\n",
       " 'PMVC.U',\n",
       " 'PRPB.U',\n",
       " 'PRPB.WS',\n",
       " 'PSTH.WS',\n",
       " 'PTK.U',\n",
       " 'PTK.WS',\n",
       " 'RBAC.U',\n",
       " 'RBAC.WS',\n",
       " 'RDS.A',\n",
       " 'RDS.B',\n",
       " 'RMG.U',\n",
       " 'RMG.WS',\n",
       " 'RTP.U',\n",
       " 'SBE.U',\n",
       " 'SBE.WS',\n",
       " 'SBG.U',\n",
       " 'SCVX.U',\n",
       " 'SCVX.WS',\n",
       " 'SEAH.U',\n",
       " 'SFTW.WS',\n",
       " 'SNPR.U',\n",
       " 'SOAC.U',\n",
       " 'SOAC.WS',\n",
       " 'SPAQ.U',\n",
       " 'SPAQ.WS',\n",
       " 'STPK.U',\n",
       " 'TALO.WS',\n",
       " 'TDW.WS',\n",
       " 'TDW.WS.A',\n",
       " 'TDW.WS.B',\n",
       " 'TPGY.U',\n",
       " 'TREB.U',\n",
       " 'TREB.WS',\n",
       " 'TRNE.WS',\n",
       " 'TWND.U',\n",
       " 'UTZ.WS',\n",
       " 'VERT.U',\n",
       " 'VGAC.U',\n",
       " 'VRT.WS',\n",
       " 'VST.WS.A',\n",
       " 'VVNT.WS',\n",
       " 'VYGG.U',\n",
       " 'WPF.U',\n",
       " 'WPF.WS',\n",
       " 'YAC.U',\n",
       " 'YAC.WS']"
      ]
     },
     "execution_count": 351,
     "metadata": {},
     "output_type": "execute_result"
    }
   ],
   "source": [
    "[s for s in hive_table.column('ticker').to_pylist() if \".\" in s]"
   ]
  },
  {
   "cell_type": "code",
   "execution_count": 232,
   "metadata": {},
   "outputs": [
    {
     "data": {
      "text/plain": [
       "'/Volumes/Oahu/Mirror/files.polygon.io/flatfiles/us_stocks_sip/day_by_ticker_v1'"
      ]
     },
     "execution_count": 232,
     "metadata": {},
     "output_type": "execute_result"
    }
   ],
   "source": [
    "config.by_ticker_dir"
   ]
  },
  {
   "cell_type": "code",
   "execution_count": 234,
   "metadata": {},
   "outputs": [],
   "source": [
    "import os"
   ]
  },
  {
   "cell_type": "code",
   "execution_count": 236,
   "metadata": {},
   "outputs": [
    {
     "data": {
      "text/plain": [
       "8926"
      ]
     },
     "execution_count": 236,
     "metadata": {},
     "output_type": "execute_result"
    }
   ],
   "source": [
    "ticker_count = len(new_table.column(\"ticker\").unique())\n",
    "ticker_count"
   ]
  },
  {
   "cell_type": "code",
   "execution_count": 353,
   "metadata": {},
   "outputs": [],
   "source": [
    "by_ticker_base_dir = os.path.join(\n",
    "        config.by_ticker_dir,\n",
    "        f\"{config.agg_time}_{config.start_timestamp.date().isoformat()}_{config.end_timestamp.date().isoformat()}.hive\",\n",
    "    )\n",
    "partition_by_ticker = pads.partitioning(\n",
    "    pa.schema([(\"part\", pa.string())]), flavor=\"hive\"\n",
    ")\n",
    "pads.write_dataset(hive_table, base_dir=by_ticker_base_dir, format=\"parquet\", partitioning=partition_by_ticker, max_partitions=ticker_count)"
   ]
  },
  {
   "cell_type": "code",
   "execution_count": 354,
   "metadata": {},
   "outputs": [
    {
     "data": {
      "text/plain": [
       "pyarrow.Table\n",
       "ticker: string\n",
       "volume: int64\n",
       "open: double\n",
       "close: double\n",
       "high: double\n",
       "low: double\n",
       "window_start: timestamp[ns, tz=UTC]\n",
       "transactions: int64\n",
       "part: string\n",
       "----\n",
       "ticker: [[\"A\"],[\"AA\"],...,[\"ZYNE\"],[\"ZYXI\"]]\n",
       "volume: [[1322141],[3921229],...,[284131],[469532]]\n",
       "open: [[102.47],[11.96],...,[3.51],[19.21]]\n",
       "close: [[103.88],[12.24],...,[3.57],[19.38]]\n",
       "high: [[104.75],[12.3],...,[3.6162],[19.73]]\n",
       "low: [[102.42],[11.96],...,[3.4866],[19.02]]\n",
       "window_start: [[2020-10-07 04:00:00.000000000Z],[2020-10-07 04:00:00.000000000Z],...,[2020-10-07 04:00:00.000000000Z],[2020-10-07 04:00:00.000000000Z]]\n",
       "transactions: [[14803],[22909],...,[1919],[4861]]\n",
       "part: [[\"A\"],[\"AA\"],...,[\"ZYNE\"],[\"ZYXI\"]]"
      ]
     },
     "execution_count": 354,
     "metadata": {},
     "output_type": "execute_result"
    }
   ],
   "source": [
    "part_dataset = pads.dataset(by_ticker_base_dir, format=\"parquet\", partitioning=\"hive\")\n",
    "part_table = part_dataset.to_table()\n",
    "part_table"
   ]
  },
  {
   "cell_type": "code",
   "execution_count": 331,
   "metadata": {},
   "outputs": [],
   "source": [
    "# part_table = part_table.sort_by(\"ticker\")"
   ]
  },
  {
   "cell_type": "code",
   "execution_count": 355,
   "metadata": {},
   "outputs": [],
   "source": [
    "hive_table = hive_table.sort_by(\"part\")"
   ]
  },
  {
   "cell_type": "code",
   "execution_count": 357,
   "metadata": {},
   "outputs": [
    {
     "data": {
      "text/plain": [
       "True"
      ]
     },
     "execution_count": 357,
     "metadata": {},
     "output_type": "execute_result"
    }
   ],
   "source": [
    "# part_table.combine_chunks().equals(hive_table.combine_chunks())\n",
    "part_table.sort_by(\"part\").equals(hive_table)"
   ]
  },
  {
   "cell_type": "code",
   "execution_count": 243,
   "metadata": {},
   "outputs": [
    {
     "data": {
      "text/plain": [
       "pyarrow.Table\n",
       "volume: int64\n",
       "open: double\n",
       "close: double\n",
       "high: double\n",
       "low: double\n",
       "window_start: timestamp[ns, tz=UTC]\n",
       "transactions: int64\n",
       "ticker: string\n",
       "----\n",
       "volume: [[1322141,3921229,3774,449029,6447,...,1100960,4000,225817,284131,469532]]\n",
       "open: [[102.47,11.96,24.9017,18.8,1.115,...,10.05,100,43.99,3.51,19.21]]\n",
       "close: [[103.88,12.24,24.9,18.8,1.1,...,10,100,45.06,3.57,19.38]]\n",
       "high: [[104.75,12.3,24.91,18.82,1.115,...,10.05,100,45.68,3.6162,19.73]]\n",
       "low: [[102.42,11.96,24.9,18.73,1.095,...,10,100,43.74,3.4866,19.02]]\n",
       "window_start: [[2020-10-07 04:00:00.000000000Z,2020-10-07 04:00:00.000000000Z,2020-10-07 04:00:00.000000000Z,2020-10-07 04:00:00.000000000Z,2020-10-07 04:00:00.000000000Z,...,2020-10-07 04:00:00.000000000Z,2020-10-07 04:00:00.000000000Z,2020-10-07 04:00:00.000000000Z,2020-10-07 04:00:00.000000000Z,2020-10-07 04:00:00.000000000Z]]\n",
       "transactions: [[14803,22909,28,596,89,...,10831,2,2475,1919,4861]]\n",
       "ticker: [[\"A\",\"AA\",\"AAA\",\"AAAU\",\"AACG\",...,\"ZVZZT\",\"ZXIET\",\"ZYME\",\"ZYNE\",\"ZYXI\"]]"
      ]
     },
     "execution_count": 243,
     "metadata": {},
     "output_type": "execute_result"
    }
   ],
   "source": [
    "one_chunk_table = part_table.combine_chunks()\n",
    "one_chunk_table"
   ]
  },
  {
   "cell_type": "code",
   "execution_count": 244,
   "metadata": {},
   "outputs": [
    {
     "data": {
      "text/plain": [
       "pyarrow.Table\n",
       "ticker: string\n",
       "volume: int64\n",
       "open: double\n",
       "close: double\n",
       "high: double\n",
       "low: double\n",
       "window_start: timestamp[ns, tz=UTC]\n",
       "transactions: int64\n",
       "----\n",
       "ticker: [[\"A\",\"AA\",\"AAA\",\"AAAU\",\"AACG\",...,\"ZVZZT\",\"ZXIET\",\"ZYME\",\"ZYNE\",\"ZYXI\"]]\n",
       "volume: [[1322141,3921229,3774,449029,6447,...,1100960,4000,225817,284131,469532]]\n",
       "open: [[102.47,11.96,24.9017,18.8,1.115,...,10.05,100,43.99,3.51,19.21]]\n",
       "close: [[103.88,12.24,24.9,18.8,1.1,...,10,100,45.06,3.57,19.38]]\n",
       "high: [[104.75,12.3,24.91,18.82,1.115,...,10.05,100,45.68,3.6162,19.73]]\n",
       "low: [[102.42,11.96,24.9,18.73,1.095,...,10,100,43.74,3.4866,19.02]]\n",
       "window_start: [[2020-10-07 04:00:00.000000000Z,2020-10-07 04:00:00.000000000Z,2020-10-07 04:00:00.000000000Z,2020-10-07 04:00:00.000000000Z,2020-10-07 04:00:00.000000000Z,...,2020-10-07 04:00:00.000000000Z,2020-10-07 04:00:00.000000000Z,2020-10-07 04:00:00.000000000Z,2020-10-07 04:00:00.000000000Z,2020-10-07 04:00:00.000000000Z]]\n",
       "transactions: [[14803,22909,28,596,89,...,10831,2,2475,1919,4861]]"
      ]
     },
     "execution_count": 244,
     "metadata": {},
     "output_type": "execute_result"
    }
   ],
   "source": [
    "new_table.combine_chunks()"
   ]
  },
  {
   "cell_type": "code",
   "execution_count": 242,
   "metadata": {},
   "outputs": [
    {
     "data": {
      "text/plain": [
       "False"
      ]
     },
     "execution_count": 242,
     "metadata": {},
     "output_type": "execute_result"
    }
   ],
   "source": [
    "part_table.combine_chunks().equals(new_table.combine_chunks())"
   ]
  },
  {
   "cell_type": "code",
   "execution_count": 245,
   "metadata": {},
   "outputs": [
    {
     "data": {
      "text/plain": [
       "pyarrow.Table\n",
       "ticker: string\n",
       "volume: int64\n",
       "open: double\n",
       "close: double\n",
       "high: double\n",
       "low: double\n",
       "window_start: timestamp[ns, tz=UTC]\n",
       "transactions: int64\n",
       "----\n",
       "ticker: [[\"A\",\"AA\",\"AAA\",\"AAAU\",\"AACG\",...,\"ZVZZT\",\"ZXIET\",\"ZYME\",\"ZYNE\",\"ZYXI\"]]\n",
       "volume: [[1322141,3921229,3774,449029,6447,...,1100960,4000,225817,284131,469532]]\n",
       "open: [[102.47,11.96,24.9017,18.8,1.115,...,10.05,100,43.99,3.51,19.21]]\n",
       "close: [[103.88,12.24,24.9,18.8,1.1,...,10,100,45.06,3.57,19.38]]\n",
       "high: [[104.75,12.3,24.91,18.82,1.115,...,10.05,100,45.68,3.6162,19.73]]\n",
       "low: [[102.42,11.96,24.9,18.73,1.095,...,10,100,43.74,3.4866,19.02]]\n",
       "window_start: [[2020-10-07 04:00:00.000000000Z,2020-10-07 04:00:00.000000000Z,2020-10-07 04:00:00.000000000Z,2020-10-07 04:00:00.000000000Z,2020-10-07 04:00:00.000000000Z,...,2020-10-07 04:00:00.000000000Z,2020-10-07 04:00:00.000000000Z,2020-10-07 04:00:00.000000000Z,2020-10-07 04:00:00.000000000Z,2020-10-07 04:00:00.000000000Z]]\n",
       "transactions: [[14803,22909,28,596,89,...,10831,2,2475,1919,4861]]"
      ]
     },
     "execution_count": 245,
     "metadata": {},
     "output_type": "execute_result"
    }
   ],
   "source": [
    "# unchunked_table = new_table.unify_dictionaries()\n",
    "unchunked_table = new_table.combine_chunks()\n",
    "unchunked_table"
   ]
  },
  {
   "cell_type": "code",
   "execution_count": 246,
   "metadata": {},
   "outputs": [
    {
     "data": {
      "text/plain": [
       "False"
      ]
     },
     "execution_count": 246,
     "metadata": {},
     "output_type": "execute_result"
    }
   ],
   "source": [
    "unchunked_table.column(\"window_start\") == one_chunk_table.column(\"window_start\")"
   ]
  },
  {
   "cell_type": "markdown",
   "metadata": {},
   "source": [
    "MacOS apparently doesn't use ASCII/UTF8 collation order for sorting file names, or maybe it is something in Arrow datasets?\n",
    "Also MacOS filenames are case insensitive by default so we're missing one of pairs like 'BCPC' and 'BCpC'."
   ]
  },
  {
   "cell_type": "code",
   "execution_count": 341,
   "metadata": {},
   "outputs": [
    {
     "name": "stdout",
     "output_type": "stream",
     "text": [
      "len(l1)=8926 len(l2)=8926\n",
      "len(l1)==len(l2)=True\n"
     ]
    },
    {
     "data": {
      "text/plain": [
       "[(34, 'ABR', 'ABRpA'),\n",
       " (35, 'ABRpA', 'ABRpB'),\n",
       " (36, 'ABRpB', 'ABRpC'),\n",
       " (37, 'ABRpC', 'ABR'),\n",
       " (74, 'ACND', 'ACND.U'),\n",
       " (75, 'ACND.U', 'ACND.WS'),\n",
       " (76, 'ACND.WS', 'ACND'),\n",
       " (132, 'AEL', 'AELpA'),\n",
       " (133, 'AELpA', 'AELpB'),\n",
       " (134, 'AELpB', 'AEL'),\n",
       " (187, 'AGM', 'AGMpC'),\n",
       " (188, 'AGMpC', 'AGMpD'),\n",
       " (189, 'AGMpD', 'AGMpF'),\n",
       " (190, 'AGMpF', 'AGM.A'),\n",
       " (191, 'AGM.A', 'AGM'),\n",
       " (198, 'AGO', 'AGOpB'),\n",
       " (199, 'AGOpB', 'AGOpE'),\n",
       " (200, 'AGOpE', 'AGOpF'),\n",
       " (201, 'AGOpF', 'AGO'),\n",
       " (216, 'AHH', 'AHHpA'),\n",
       " (217, 'AHHpA', 'AHH'),\n",
       " (222, 'AHT', 'AHTpD'),\n",
       " (223, 'AHTpD', 'AHTpF'),\n",
       " (224, 'AHTpF', 'AHTpG'),\n",
       " (225, 'AHTpG', 'AHTpH'),\n",
       " (226, 'AHTpH', 'AHTpI'),\n",
       " (227, 'AHTpI', 'AHT'),\n",
       " (228, 'AI', 'AIpB'),\n",
       " (229, 'AIpB', 'AIpC'),\n",
       " (230, 'AIpC', 'AI'),\n",
       " (235, 'AIG', 'AIGpA'),\n",
       " (236, 'AIGpA', 'AIG.WS'),\n",
       " (237, 'AIG.WS', 'AIG'),\n",
       " (277, 'AL', 'ALpA'),\n",
       " (278, 'ALpA', 'AL'),\n",
       " (300, 'ALL', 'ALLpB'),\n",
       " (301, 'ALLpB', 'ALLpG'),\n",
       " (302, 'ALLpG', 'ALLpH'),\n",
       " (303, 'ALLpH', 'ALLpI'),\n",
       " (304, 'ALLpI', 'ALL'),\n",
       " (309, 'ALLY', 'ALLYpA'),\n",
       " (310, 'ALLYpA', 'ALLY'),\n",
       " (341, 'AMBC', 'AMBC.WS'),\n",
       " (342, 'AMBC.WS', 'AMBC'),\n",
       " (356, 'AMH', 'AMHpD'),\n",
       " (357, 'AMHpD', 'AMHpE'),\n",
       " (358, 'AMHpE', 'AMHpF'),\n",
       " (359, 'AMHpF', 'AMHpG'),\n",
       " (360, 'AMHpG', 'AMHpH'),\n",
       " (361, 'AMHpH', 'AMH'),\n",
       " (417, 'ANH', 'ANHpA'),\n",
       " (418, 'ANHpA', 'ANHpC'),\n",
       " (419, 'ANHpC', 'ANH'),\n",
       " (440, 'AP', 'AP.WS'),\n",
       " (441, 'AP.WS', 'AP'),\n",
       " (457, 'APO', 'APOpA'),\n",
       " (458, 'APOpA', 'APOpB'),\n",
       " (459, 'APOpB', 'APO'),\n",
       " (471, 'APTV', 'APTVpA'),\n",
       " (472, 'APTVpA', 'APTV'),\n",
       " (505, 'ARES', 'ARESpA'),\n",
       " (506, 'ARESpA', 'ARES'),\n",
       " (508, 'ARGO', 'ARGOpA'),\n",
       " (509, 'ARGOpA', 'ARGO'),\n",
       " (531, 'ARR', 'ARRpC'),\n",
       " (532, 'ARRpC', 'ARR'),\n",
       " (547, 'ASB', 'ASBpC'),\n",
       " (548, 'ASBpC', 'ASBpD'),\n",
       " (549, 'ASBpD', 'ASBpE'),\n",
       " (550, 'ASBpE', 'ASBpF'),\n",
       " (551, 'ASBpF', 'ASB'),\n",
       " (583, 'ATCO', 'ATCOpD'),\n",
       " (584, 'ATCOpD', 'ATCOpE'),\n",
       " (585, 'ATCOpE', 'ATCOpG'),\n",
       " (586, 'ATCOpG', 'ATCOpH'),\n",
       " (587, 'ATCOpH', 'ATCOpI'),\n",
       " (588, 'ATCOpI', 'ATCO'),\n",
       " (595, 'ATH', 'ATHpA'),\n",
       " (596, 'ATHpA', 'ATHpB'),\n",
       " (597, 'ATHpB', 'ATHpC'),\n",
       " (598, 'ATHpC', 'ATH'),\n",
       " (667, 'AVTR', 'AVTRpA'),\n",
       " (668, 'AVTRpA', 'AVTR'),\n",
       " (695, 'AXS', 'AXSpE'),\n",
       " (696, 'AXSpE', 'AXS'),\n",
       " (725, 'BAC', 'BACpA'),\n",
       " (726, 'BACpA', 'BACpB'),\n",
       " (727, 'BACpB', 'BACpC'),\n",
       " (728, 'BACpC', 'BACpE'),\n",
       " (729, 'BACpE', 'BACpK'),\n",
       " (730, 'BACpK', 'BACpL'),\n",
       " (731, 'BACpL', 'BACpM'),\n",
       " (732, 'BACpM', 'BACpN'),\n",
       " (733, 'BACpN', 'BAC'),\n",
       " (739, 'BANC', 'BANCpD'),\n",
       " (740, 'BANCpD', 'BANCpE'),\n",
       " (741, 'BANCpE', 'BANC'),\n",
       " (788, 'BC', 'BCpA'),\n",
       " (789, 'BCpA', 'BCpB'),\n",
       " (790, 'BCpB', 'BCpC'),\n",
       " (791, 'BCpC', 'BC'),\n",
       " (814, 'BCV', 'BCVpA'),\n",
       " (815, 'BCVpA', 'BCV'),\n",
       " (844, 'BEP', 'BEPpA'),\n",
       " (845, 'BEPpA', 'BEP'),\n",
       " (861, 'BFS', 'BFSpD'),\n",
       " (862, 'BFSpD', 'BFSpE'),\n",
       " (863, 'BFSpE', 'BFS'),\n",
       " (884, 'BH', 'BH.A'),\n",
       " (885, 'BH.A', 'BH'),\n",
       " (897, 'BHR', 'BHRpB'),\n",
       " (898, 'BHRpB', 'BHRpD'),\n",
       " (899, 'BHRpD', 'BHR'),\n",
       " (919, 'BIP', 'BIPpA'),\n",
       " (920, 'BIPpA', 'BIP'),\n",
       " (934, 'BK', 'BKpC'),\n",
       " (935, 'BKpC', 'BK'),\n",
       " (1007, 'BMRG', 'BMRG.U'),\n",
       " (1008, 'BMRG.U', 'BMRG.WS'),\n",
       " (1009, 'BMRG.WS', 'BMRG'),\n",
       " (1012, 'BMY', 'BMYr'),\n",
       " (1013, 'BMYr', 'BMY'),\n",
       " (1079, 'BRG', 'BRGpA'),\n",
       " (1080, 'BRGpA', 'BRGpC'),\n",
       " (1081, 'BRGpC', 'BRGpD'),\n",
       " (1082, 'BRGpD', 'BRG'),\n",
       " (1091, 'BRMK', 'BRMK.WS'),\n",
       " (1092, 'BRMK.WS', 'BRMK'),\n",
       " (1157, 'BSX', 'BSXpA'),\n",
       " (1158, 'BSXpA', 'BSX'),\n",
       " (1206, 'BXP', 'BXPpB'),\n",
       " (1207, 'BXPpB', 'BXP'),\n",
       " (1209, 'BXS', 'BXSpA'),\n",
       " (1210, 'BXSpA', 'BXS'),\n",
       " (1222, 'C', 'CpJ'),\n",
       " (1223, 'CpJ', 'CpK'),\n",
       " (1224, 'CpK', 'CpN'),\n",
       " (1225, 'CpN', 'CpS'),\n",
       " (1226, 'CpS', 'C'),\n",
       " (1240, 'CAI', 'CAIpA'),\n",
       " (1241, 'CAIpA', 'CAIpB'),\n",
       " (1242, 'CAIpB', 'CAI'),\n",
       " (1286, 'CBB', 'CBBpB'),\n",
       " (1287, 'CBBpB', 'CBB'),\n",
       " (1292, 'CBL', 'CBLpD'),\n",
       " (1293, 'CBLpD', 'CBLpE'),\n",
       " (1294, 'CBLpE', 'CBL'),\n",
       " (1309, 'CCAC', 'CCAC.WS'),\n",
       " (1310, 'CCAC.WS', 'CCAC'),\n",
       " (1321, 'CCIV', 'CCIV.U'),\n",
       " (1322, 'CCIV.U', 'CCIV.WS'),\n",
       " (1323, 'CCIV.WS', 'CCIV'),\n",
       " (1343, 'CCX', 'CCX.U'),\n",
       " (1344, 'CCX.U', 'CCX.WS'),\n",
       " (1345, 'CCX.WS', 'CCX'),\n",
       " (1347, 'CCXX', 'CCXX.U'),\n",
       " (1348, 'CCXX.U', 'CCXX.WS'),\n",
       " (1349, 'CCXX.WS', 'CCXX'),\n",
       " (1363, 'CDR', 'CDRpB'),\n",
       " (1364, 'CDRpB', 'CDRpC'),\n",
       " (1365, 'CDRpC', 'CDR'),\n",
       " (1394, 'CEQP', 'CEQPp'),\n",
       " (1395, 'CEQPp', 'CEQP'),\n",
       " (1419, 'CFG', 'CFGpD'),\n",
       " (1420, 'CFGpD', 'CFGpE'),\n",
       " (1421, 'CFGpE', 'CFG'),\n",
       " (1476, 'CHMI', 'CHMIpA'),\n",
       " (1477, 'CHMIpA', 'CHMIpB'),\n",
       " (1478, 'CHMIpB', 'CHMI'),\n",
       " (1510, 'CIG', 'CIG.C'),\n",
       " (1511, 'CIG.C', 'CIG'),\n",
       " (1519, 'CIM', 'CIMpA'),\n",
       " (1520, 'CIMpA', 'CIMpB'),\n",
       " (1521, 'CIMpB', 'CIMpC'),\n",
       " (1522, 'CIMpC', 'CIMpD'),\n",
       " (1523, 'CIMpD', 'CIM'),\n",
       " (1526, 'CIO', 'CIOpA'),\n",
       " (1527, 'CIOpA', 'CIO'),\n",
       " (1529, 'CIT', 'CITpB'),\n",
       " (1530, 'CITpB', 'CIT'),\n",
       " (1564, 'CLNY', 'CLNYpG'),\n",
       " (1565, 'CLNYpG', 'CLNYpH'),\n",
       " (1566, 'CLNYpH', 'CLNYpI'),\n",
       " (1567, 'CLNYpI', 'CLNYpJ'),\n",
       " (1568, 'CLNYpJ', 'CLNY'),\n",
       " (1606, 'CMO', 'CMOpE'),\n",
       " (1607, 'CMOpE', 'CMO'),\n",
       " (1612, 'CMRE', 'CMREpB'),\n",
       " (1613, 'CMREpB', 'CMREpC'),\n",
       " (1614, 'CMREpC', 'CMREpD'),\n",
       " (1615, 'CMREpD', 'CMREpE'),\n",
       " (1616, 'CMREpE', 'CMRE'),\n",
       " (1618, 'CMS', 'CMSpB'),\n",
       " (1619, 'CMSpB', 'CMS'),\n",
       " (1645, 'CNP', 'CNPpB'),\n",
       " (1646, 'CNPpB', 'CNP'),\n",
       " (1663, 'CODI', 'CODIpA'),\n",
       " (1664, 'CODIpA', 'CODIpB'),\n",
       " (1665, 'CODIpB', 'CODIpC'),\n",
       " (1666, 'CODIpC', 'CODI'),\n",
       " (1669, 'COF', 'COFpF'),\n",
       " (1670, 'COFpF', 'COFpG'),\n",
       " (1671, 'COFpG', 'COFpH'),\n",
       " (1672, 'COFpH', 'COFpI'),\n",
       " (1673, 'COFpI', 'COFpJ'),\n",
       " (1674, 'COFpJ', 'COFpK'),\n",
       " (1675, 'COFpK', 'COF'),\n",
       " (1701, 'CORR', 'CORRpA'),\n",
       " (1702, 'CORRpA', 'CORR'),\n",
       " (1737, 'CPSR', 'CPSR.U'),\n",
       " (1738, 'CPSR.U', 'CPSR.WS'),\n",
       " (1739, 'CPSR.WS', 'CPSR'),\n",
       " (1863, 'CUBI', 'CUBIpC'),\n",
       " (1864, 'CUBIpC', 'CUBIpD'),\n",
       " (1865, 'CUBIpD', 'CUBIpE'),\n",
       " (1866, 'CUBIpE', 'CUBIpF'),\n",
       " (1867, 'CUBIpF', 'CUBI'),\n",
       " (1903, 'CWEN', 'CWEN.A'),\n",
       " (1904, 'CWEN.A', 'CWEN'),\n",
       " (1985, 'DCP', 'DCPpB'),\n",
       " (1986, 'DCPpB', 'DCPpC'),\n",
       " (1987, 'DCPpC', 'DCP'),\n",
       " (2011, 'DEH', 'DEH.U'),\n",
       " (2012, 'DEH.U', 'DEH.WS'),\n",
       " (2013, 'DEH.WS', 'DEH'),\n",
       " (2037, 'DFNS', 'DFNS.WS'),\n",
       " (2038, 'DFNS.WS', 'DFNS'),\n",
       " (2052, 'DGNR', 'DGNR.U'),\n",
       " (2053, 'DGNR.U', 'DGNR.WS'),\n",
       " (2054, 'DGNR.WS', 'DGNR'),\n",
       " (2070, 'DHR', 'DHRpB'),\n",
       " (2071, 'DHRpB', 'DHR'),\n",
       " (2110, 'DLNG', 'DLNGpA'),\n",
       " (2111, 'DLNGpA', 'DLNGpB'),\n",
       " (2112, 'DLNGpB', 'DLNG'),\n",
       " (2115, 'DLR', 'DLRpC'),\n",
       " (2116, 'DLRpC', 'DLRpG'),\n",
       " (2117, 'DLRpG', 'DLRpJ'),\n",
       " (2118, 'DLRpJ', 'DLRpK'),\n",
       " (2119, 'DLRpK', 'DLRpL'),\n",
       " (2120, 'DLRpL', 'DLR'),\n",
       " (2139, 'DMS', 'DMS.WS'),\n",
       " (2140, 'DMS.WS', 'DMS'),\n",
       " (2143, 'DMYD', 'DMYD.U'),\n",
       " (2144, 'DMYD.U', 'DMYD.WS'),\n",
       " (2145, 'DMYD.WS', 'DMYD'),\n",
       " (2146, 'DMYT', 'DMYT.U'),\n",
       " (2147, 'DMYT.U', 'DMYT.WS'),\n",
       " (2148, 'DMYT.WS', 'DMYT'),\n",
       " (2186, 'DRH', 'DRHpA'),\n",
       " (2187, 'DRHpA', 'DRH'),\n",
       " (2202, 'DS', 'DSpB'),\n",
       " (2203, 'DSpB', 'DS'),\n",
       " (2219, 'DSX', 'DSXpB'),\n",
       " (2220, 'DSXpB', 'DSX'),\n",
       " (2241, 'DUK', 'DUKpA'),\n",
       " (2242, 'DUKpA', 'DUK'),\n",
       " (2272, 'DX', 'DXpB'),\n",
       " (2273, 'DXpB', 'DXpC'),\n",
       " (2274, 'DXpC', 'DX'),\n",
       " (2322, 'EBR', 'EBR.B'),\n",
       " (2323, 'EBR.B', 'EBR'),\n",
       " (2332, 'ECF', 'ECFpA'),\n",
       " (2333, 'ECFpA', 'ECF'),\n",
       " (2388, 'EFC', 'EFCpA'),\n",
       " (2389, 'EFCpA', 'EFC'),\n",
       " (2501, 'ENR', 'ENRpA'),\n",
       " (2502, 'ENRpA', 'ENR'),\n",
       " (2534, 'EPR', 'EPRpC'),\n",
       " (2535, 'EPRpC', 'EPRpE'),\n",
       " (2536, 'EPRpE', 'EPRpG'),\n",
       " (2537, 'EPRpG', 'EPR'),\n",
       " (2548, 'EQC', 'EQCpD'),\n",
       " (2549, 'EQCpD', 'EQC'),\n",
       " (2551, 'EQH', 'EQHpA'),\n",
       " (2552, 'EQHpA', 'EQH'),\n",
       " (2753, 'F', 'FpB'),\n",
       " (2754, 'FpB', 'FpC'),\n",
       " (2755, 'FpC', 'F'),\n",
       " (2760, 'FAII', 'FAII.U'),\n",
       " (2761, 'FAII.U', 'FAII.WS'),\n",
       " (2762, 'FAII.WS', 'FAII'),\n",
       " (2855, 'FEAC', 'FEAC.U'),\n",
       " (2856, 'FEAC.U', 'FEAC.WS'),\n",
       " (2857, 'FEAC.WS', 'FEAC'),\n",
       " (2906, 'FHN', 'FHNpA'),\n",
       " (2907, 'FHNpA', 'FHNpB'),\n",
       " (2908, 'FHNpB', 'FHNpC'),\n",
       " (2909, 'FHNpC', 'FHNpD'),\n",
       " (2910, 'FHNpD', 'FHNpE'),\n",
       " (2911, 'FHNpE', 'FHN'),\n",
       " (3056, 'FNB', 'FNBpE'),\n",
       " (3057, 'FNBpE', 'FNB'),\n",
       " (3105, 'FPI', 'FPIpB'),\n",
       " (3106, 'FPIpB', 'FPI'),\n",
       " (3120, 'FRC', 'FRCpF'),\n",
       " (3121, 'FRCpF', 'FRCpG'),\n",
       " (3122, 'FRCpG', 'FRCpH'),\n",
       " (3123, 'FRCpH', 'FRCpI'),\n",
       " (3124, 'FRCpI', 'FRCpJ'),\n",
       " (3125, 'FRCpJ', 'FRCpK'),\n",
       " (3126, 'FRCpK', 'FRC'),\n",
       " (3146, 'FRT', 'FRTpC'),\n",
       " (3147, 'FRTpC', 'FRT'),\n",
       " (3176, 'FTAI', 'FTAIpA'),\n",
       " (3177, 'FTAIpA', 'FTAIpB'),\n",
       " (3178, 'FTAIpB', 'FTAI'),\n",
       " (3221, 'FUSE', 'FUSE.U'),\n",
       " (3222, 'FUSE.U', 'FUSE.WS'),\n",
       " (3223, 'FUSE.WS', 'FUSE'),\n",
       " (3230, 'FVAC', 'FVAC.U'),\n",
       " (3231, 'FVAC.U', 'FVAC.WS'),\n",
       " (3232, 'FVAC.WS', 'FVAC'),\n",
       " (3269, 'GAB', 'GABpG'),\n",
       " (3270, 'GABpG', 'GABpH'),\n",
       " (3271, 'GABpH', 'GABpJ'),\n",
       " (3272, 'GABpJ', 'GABpK'),\n",
       " (3273, 'GABpK', 'GAB'),\n",
       " (3281, 'GAM', 'GAMpB'),\n",
       " (3282, 'GAMpB', 'GAM'),\n",
       " (3290, 'GB', 'GB.WS'),\n",
       " (3291, 'GB.WS', 'GB'),\n",
       " (3329, 'GDV', 'GDVpG'),\n",
       " (3330, 'GDVpG', 'GDVpH'),\n",
       " (3331, 'GDVpH', 'GDV'),\n",
       " (3343, 'GEF', 'GEF.B'),\n",
       " (3344, 'GEF.B', 'GEF'),\n",
       " (3372, 'GGT', 'GGTpE'),\n",
       " (3373, 'GGTpE', 'GGT'),\n",
       " (3374, 'GGZ', 'GGZpA'),\n",
       " (3375, 'GGZpA', 'GGZ'),\n",
       " (3395, 'GIK', 'GIK.WS'),\n",
       " (3396, 'GIK.WS', 'GIK'),\n",
       " (3402, 'GIX', 'GIXr'),\n",
       " (3403, 'GIXr', 'GIX.WS'),\n",
       " (3404, 'GIX.WS', 'GIX'),\n",
       " (3409, 'GL', 'GLpC'),\n",
       " (3410, 'GLpC', 'GL'),\n",
       " (3422, 'GLEO', 'GLEO.U'),\n",
       " (3423, 'GLEO.U', 'GLEO.WS'),\n",
       " (3424, 'GLEO.WS', 'GLEO'),\n",
       " (3435, 'GLOG', 'GLOGpA'),\n",
       " (3436, 'GLOGpA', 'GLOG'),\n",
       " (3437, 'GLOP', 'GLOPpA'),\n",
       " (3438, 'GLOPpA', 'GLOPpB'),\n",
       " (3439, 'GLOPpB', 'GLOPpC'),\n",
       " (3440, 'GLOPpC', 'GLOP'),\n",
       " (3441, 'GLP', 'GLPpA'),\n",
       " (3442, 'GLPpA', 'GLP'),\n",
       " (3450, 'GLU', 'GLUpB'),\n",
       " (3451, 'GLUpB', 'GLU'),\n",
       " (3471, 'GMRE', 'GMREpA'),\n",
       " (3472, 'GMREpA', 'GMRE'),\n",
       " (3477, 'GNE', 'GNEpA'),\n",
       " (3478, 'GNEpA', 'GNE'),\n",
       " (3481, 'GNL', 'GNLpA'),\n",
       " (3482, 'GNLpA', 'GNLpB'),\n",
       " (3483, 'GNLpB', 'GNL'),\n",
       " (3494, 'GNT', 'GNTpA'),\n",
       " (3495, 'GNTpA', 'GNT'),\n",
       " (3501, 'GOAC', 'GOAC.U'),\n",
       " (3502, 'GOAC.U', 'GOAC.WS'),\n",
       " (3503, 'GOAC.WS', 'GOAC'),\n",
       " (3578, 'GRX', 'GRXpB'),\n",
       " (3579, 'GRXpB', 'GRX'),\n",
       " (3580, 'GS', 'GSpA'),\n",
       " (3581, 'GSpA', 'GSpC'),\n",
       " (3582, 'GSpC', 'GSpD'),\n",
       " (3583, 'GSpD', 'GSpJ'),\n",
       " (3584, 'GSpJ', 'GSpK'),\n",
       " (3585, 'GSpK', 'GSpN'),\n",
       " (3586, 'GSpN', 'GS'),\n",
       " (3587, 'GSAH', 'GSAH.U'),\n",
       " (3588, 'GSAH.U', 'GSAH.WS'),\n",
       " (3589, 'GSAH.WS', 'GSAH'),\n",
       " (3606, 'GSL', 'GSLpB'),\n",
       " (3607, 'GSLpB', 'GSL'),\n",
       " (3631, 'GTN', 'GTN.A'),\n",
       " (3632, 'GTN.A', 'GTN'),\n",
       " (3643, 'GUT', 'GUTpA'),\n",
       " (3644, 'GUTpA', 'GUTpC'),\n",
       " (3645, 'GUTpC', 'GUT'),\n",
       " (3745, 'HEI', 'HEI.A'),\n",
       " (3746, 'HEI.A', 'HEI'),\n",
       " (3765, 'HFRO', 'HFROpA'),\n",
       " (3766, 'HFROpA', 'HFRO'),\n",
       " (3783, 'HIG', 'HIGpG'),\n",
       " (3784, 'HIGpG', 'HIG'),\n",
       " (3812, 'HMLP', 'HMLPpA'),\n",
       " (3813, 'HMLPpA', 'HMLP'),\n",
       " (3858, 'HPX', 'HPX.U'),\n",
       " (3859, 'HPX.U', 'HPX.WS'),\n",
       " (3860, 'HPX.WS', 'HPX'),\n",
       " (3876, 'HSBC', 'HSBCpA'),\n",
       " (3877, 'HSBCpA', 'HSBC'),\n",
       " (3891, 'HT', 'HTpC'),\n",
       " (3892, 'HTpC', 'HTpD'),\n",
       " (3893, 'HTpD', 'HTpE'),\n",
       " (3894, 'HTpE', 'HT'),\n",
       " (3929, 'HVT', 'HVT.A'),\n",
       " (3930, 'HVT.A', 'HVT'),\n",
       " (3937, 'HWM', 'HWMp'),\n",
       " (3938, 'HWMp', 'HWM'),\n",
       " (3956, 'HYLN', 'HYLN.WS'),\n",
       " (3957, 'HYLN.WS', 'HYLN'),\n",
       " (4157, 'IIPR', 'IIPRpA'),\n",
       " (4158, 'IIPRpA', 'IIPR'),\n",
       " (4225, 'INN', 'INNpD'),\n",
       " (4226, 'INNpD', 'INNpE'),\n",
       " (4227, 'INNpE', 'INN'),\n",
       " (4240, 'INSW', 'INSWpA'),\n",
       " (4241, 'INSWpA', 'INSW'),\n",
       " (4272, 'IPOB', 'IPOB.U'),\n",
       " (4273, 'IPOB.U', 'IPOB.WS'),\n",
       " (4274, 'IPOB.WS', 'IPOB'),\n",
       " (4275, 'IPOC', 'IPOC.U'),\n",
       " (4276, 'IPOC.U', 'IPOC.WS'),\n",
       " (4277, 'IPOC.WS', 'IPOC'),\n",
       " (4279, 'IPV', 'IPV.U'),\n",
       " (4280, 'IPV.U', 'IPV.WS'),\n",
       " (4281, 'IPV.WS', 'IPV'),\n",
       " (4300, 'IRET', 'IRETpC'),\n",
       " (4301, 'IRETpC', 'IRET'),\n",
       " (4369, 'IVR', 'IVRpA'),\n",
       " (4370, 'IVRpA', 'IVRpB'),\n",
       " (4371, 'IVRpB', 'IVRpC'),\n",
       " (4372, 'IVRpC', 'IVR'),\n",
       " (4431, 'JCAP', 'JCAPpB'),\n",
       " (4432, 'JCAPpB', 'JCAP'),\n",
       " (4479, 'JIH', 'JIH.U'),\n",
       " (4480, 'JIH.U', 'JIH.WS'),\n",
       " (4481, 'JIH.WS', 'JIH'),\n",
       " (4536, 'JPM', 'JPMpC'),\n",
       " (4537, 'JPMpC', 'JPMpD'),\n",
       " (4538, 'JPMpD', 'JPMpG'),\n",
       " (4539, 'JPMpG', 'JPMpH'),\n",
       " (4540, 'JPMpH', 'JPMpJ'),\n",
       " (4541, 'JPMpJ', 'JPM'),\n",
       " (4574, 'JWS', 'JWS.U'),\n",
       " (4575, 'JWS.U', 'JWS.WS'),\n",
       " (4576, 'JWS.WS', 'JWS'),\n",
       " (4606, 'KCAC', 'KCAC.U'),\n",
       " (4607, 'KCAC.U', 'KCAC.WS'),\n",
       " (4608, 'KCAC.WS', 'KCAC'),\n",
       " (4628, 'KEY', 'KEYpI'),\n",
       " (4629, 'KEYpI', 'KEYpJ'),\n",
       " (4630, 'KEYpJ', 'KEYpK'),\n",
       " (4631, 'KEYpK', 'KEY'),\n",
       " (4644, 'KIM', 'KIMpL'),\n",
       " (4645, 'KIMpL', 'KIMpM'),\n",
       " (4646, 'KIMpM', 'KIM'),\n",
       " (4654, 'KKR', 'KKRpA'),\n",
       " (4655, 'KKRpA', 'KKRpB'),\n",
       " (4656, 'KKRpB', 'KKRpC'),\n",
       " (4657, 'KKRpC', 'KKR'),\n",
       " (4727, 'KSU', 'KSUp'),\n",
       " (4728, 'KSUp', 'KSU'),\n",
       " (4817, 'LEN', 'LEN.B'),\n",
       " (4818, 'LEN.B', 'LEN'),\n",
       " (4830, 'LGC', 'LGC.WS'),\n",
       " (4831, 'LGC.WS', 'LGC'),\n",
       " (4843, 'LGVW', 'LGVW.U'),\n",
       " (4844, 'LGVW.U', 'LGVW.WS'),\n",
       " (4845, 'LGVW.WS', 'LGVW'),\n",
       " (4906, 'LOAK', 'LOAK.U'),\n",
       " (4907, 'LOAK.U', 'LOAK.WS'),\n",
       " (4908, 'LOAK.WS', 'LOAK'),\n",
       " (4985, 'LXP', 'LXPpC'),\n",
       " (4986, 'LXPpC', 'LXP'),\n",
       " (4999, 'MAA', 'MAApI'),\n",
       " (5000, 'MAApI', 'MAA'),\n",
       " (5112, 'MET', 'METpA'),\n",
       " (5113, 'METpA', 'METpE'),\n",
       " (5114, 'METpE', 'METpF'),\n",
       " (5115, 'METpF', 'MET'),\n",
       " (5119, 'MFA', 'MFApB'),\n",
       " (5120, 'MFApB', 'MFApC'),\n",
       " (5121, 'MFApC', 'MFA'),\n",
       " (5122, 'MFAC', 'MFAC.WS'),\n",
       " (5123, 'MFAC.WS', 'MFAC'),\n",
       " (5197, 'MITT', 'MITTpA'),\n",
       " (5198, 'MITTpA', 'MITTpB'),\n",
       " (5199, 'MITTpB', 'MITTpC'),\n",
       " (5200, 'MITTpC', 'MITT'),\n",
       " (5263, 'MNR', 'MNRpC'),\n",
       " (5264, 'MNRpC', 'MNR'),\n",
       " (5329, 'MS', 'MSpA'),\n",
       " (5330, 'MSpA', 'MSpE'),\n",
       " (5331, 'MSpE', 'MSpF'),\n",
       " (5332, 'MSpF', 'MSpI'),\n",
       " (5333, 'MSpI', 'MSpK'),\n",
       " (5334, 'MSpK', 'MSpL'),\n",
       " (5335, 'MSpL', 'MS'),\n",
       " (5370, 'MTL', 'MTLp'),\n",
       " (5371, 'MTLp', 'MTL'),\n",
       " (5475, 'NBR', 'NBRpA'),\n",
       " (5476, 'NBRpA', 'NBR'),\n",
       " (5493, 'NCV', 'NCVpA'),\n",
       " (5494, 'NCVpA', 'NCV'),\n",
       " (5495, 'NCZ', 'NCZpA'),\n",
       " (5496, 'NCZpA', 'NCZ'),\n",
       " (5506, 'NEE', 'NEEpI'),\n",
       " (5507, 'NEEpI', 'NEEpJ'),\n",
       " (5508, 'NEEpJ', 'NEEpK'),\n",
       " (5509, 'NEEpK', 'NEEpN'),\n",
       " (5510, 'NEEpN', 'NEEpO'),\n",
       " (5511, 'NEEpO', 'NEEpP'),\n",
       " (5512, 'NEEpP', 'NEEpQ'),\n",
       " (5513, 'NEEpQ', 'NEE'),\n",
       " (5545, 'NFH', 'NFH.WS'),\n",
       " (5546, 'NFH.WS', 'NFH'),\n",
       " (5564, 'NGL', 'NGLpB'),\n",
       " (5565, 'NGLpB', 'NGLpC'),\n",
       " (5566, 'NGLpC', 'NGL'),\n",
       " (5583, 'NI', 'NIpB'),\n",
       " (5584, 'NIpB', 'NI'),\n",
       " (5613, 'NLY', 'NLYpD'),\n",
       " (5614, 'NLYpD', 'NLYpF'),\n",
       " (5615, 'NLYpF', 'NLYpG'),\n",
       " (5616, 'NLYpG', 'NLYpI'),\n",
       " (5617, 'NLYpI', 'NLY'),\n",
       " (5618, 'NM', 'NMpG'),\n",
       " (5619, 'NMpG', 'NMpH'),\n",
       " (5620, 'NMpH', 'NM'),\n",
       " (5644, 'NNN', 'NNNpF'),\n",
       " (5645, 'NNNpF', 'NNN'),\n",
       " (5680, 'NREF', 'NREFpA'),\n",
       " (5681, 'NREFpA', 'NREF'),\n",
       " (5695, 'NRZ', 'NRZpA'),\n",
       " (5696, 'NRZpA', 'NRZpB'),\n",
       " (5697, 'NRZpB', 'NRZpC'),\n",
       " (5698, 'NRZpC', 'NRZ'),\n",
       " (5699, 'NS', 'NSpA'),\n",
       " (5700, 'NSpA', 'NSpB'),\n",
       " (5701, 'NSpB', 'NSpC'),\n",
       " (5702, 'NSpC', 'NS'),\n",
       " (5703, 'NSA', 'NSApA'),\n",
       " (5704, 'NSApA', 'NSA'),\n",
       " (5706, 'NSCO', 'NSCO.WS'),\n",
       " (5707, 'NSCO.WS', 'NSCO'),\n",
       " (5712, 'NSPR', 'NSPR.WS'),\n",
       " (5713, 'NSPR.WS', 'NSPR'),\n",
       " (5814, 'NYCB', 'NYCBpA'),\n",
       " (5815, 'NYCBpA', 'NYCBpU'),\n",
       " (5816, 'NYCBpU', 'NYCB'),\n",
       " (5828, 'OAC', 'OAC.U'),\n",
       " (5829, 'OAC.U', 'OAC.WS'),\n",
       " (5830, 'OAC.WS', 'OAC'),\n",
       " (5868, 'OFG', 'OFGpA'),\n",
       " (5869, 'OFGpA', 'OFGpB'),\n",
       " (5870, 'OFGpB', 'OFGpD'),\n",
       " (5871, 'OFGpD', 'OFG'),\n",
       " (6021, 'OXY', 'OXY.WS'),\n",
       " (6022, 'OXY.WS', 'OXY'),\n",
       " (6044, 'PANA', 'PANA.U'),\n",
       " (6045, 'PANA.U', 'PANA'),\n",
       " (6079, 'PBI', 'PBIpB'),\n",
       " (6080, 'PBIpB', 'PBI'),\n",
       " (6086, 'PBR', 'PBR.A'),\n",
       " (6087, 'PBR.A', 'PBR'),\n",
       " (6101, 'PCG', 'PCGpA'),\n",
       " (6102, 'PCGpA', 'PCGpB'),\n",
       " (6103, 'PCGpB', 'PCGpC'),\n",
       " (6104, 'PCGpC', 'PCGpD'),\n",
       " (6105, 'PCGpD', 'PCGpG'),\n",
       " (6106, 'PCGpG', 'PCGpH'),\n",
       " (6107, 'PCGpH', 'PCG'),\n",
       " (6115, 'PCPL', 'PCPL.WS'),\n",
       " (6116, 'PCPL.WS', 'PCPL'),\n",
       " (6147, 'PEB', 'PEBpC'),\n",
       " (6148, 'PEBpC', 'PEBpD'),\n",
       " (6149, 'PEBpD', 'PEBpE'),\n",
       " (6150, 'PEBpE', 'PEBpF'),\n",
       " (6151, 'PEBpF', 'PEB'),\n",
       " (6158, 'PEI', 'PEIpB'),\n",
       " (6159, 'PEIpB', 'PEIpC'),\n",
       " (6160, 'PEIpC', 'PEIpD'),\n",
       " (6161, 'PEIpD', 'PEI'),\n",
       " (6233, 'PHGE', 'PHGE.WS'),\n",
       " (6234, 'PHGE.WS', 'PHGE'),\n",
       " (6250, 'PIC', 'PIC.U'),\n",
       " (6251, 'PIC.U', 'PIC.WS'),\n",
       " (6252, 'PIC.WS', 'PIC'),\n",
       " (6318, 'PLYM', 'PLYMpA'),\n",
       " (6319, 'PLYMpA', 'PLYM'),\n",
       " (6330, 'PMT', 'PMTpA'),\n",
       " (6331, 'PMTpA', 'PMTpB'),\n",
       " (6332, 'PMTpB', 'PMT'),\n",
       " (6337, 'PNC', 'PNCpP'),\n",
       " (6338, 'PNCpP', 'PNC'),\n",
       " (6418, 'PRPB', 'PRPB.U'),\n",
       " (6419, 'PRPB.U', 'PRPB.WS'),\n",
       " (6420, 'PRPB.WS', 'PRPB'),\n",
       " (6439, 'PSA', 'PSApB'),\n",
       " (6440, 'PSApB', 'PSApC'),\n",
       " (6441, 'PSApC', 'PSApD'),\n",
       " (6442, 'PSApD', 'PSApE'),\n",
       " (6443, 'PSApE', 'PSApF'),\n",
       " (6444, 'PSApF', 'PSApG'),\n",
       " (6445, 'PSApG', 'PSApH'),\n",
       " (6446, 'PSApH', 'PSApI'),\n",
       " (6447, 'PSApI', 'PSApJ'),\n",
       " (6448, 'PSApJ', 'PSApK'),\n",
       " (6449, 'PSApK', 'PSApL'),\n",
       " (6450, 'PSApL', 'PSApM'),\n",
       " (6451, 'PSApM', 'PSA'),\n",
       " (6455, 'PSB', 'PSBpW'),\n",
       " (6456, 'PSBpW', 'PSBpX'),\n",
       " (6457, 'PSBpX', 'PSBpY'),\n",
       " (6458, 'PSBpY', 'PSBpZ'),\n",
       " (6459, 'PSBpZ', 'PSB'),\n",
       " (6491, 'PSTH', 'PSTH.WS'),\n",
       " (6492, 'PSTH.WS', 'PSTH'),\n",
       " (6513, 'PTK', 'PTK.U'),\n",
       " (6514, 'PTK.U', 'PTK.WS'),\n",
       " (6515, 'PTK.WS', 'PTK'),\n",
       " (6530, 'PUK', 'PUKp'),\n",
       " (6531, 'PUKp', 'PUKpA'),\n",
       " (6532, 'PUKpA', 'PUK'),\n",
       " (6544, 'PW', 'PWpA'),\n",
       " (6545, 'PWpA', 'PW'),\n",
       " (6637, 'QTS', 'QTSpA'),\n",
       " (6638, 'QTSpA', 'QTSpB'),\n",
       " (6639, 'QTSpB', 'QTS'),\n",
       " (6676, 'RBAC', 'RBAC.U'),\n",
       " (6677, 'RBAC.U', 'RBAC.WS'),\n",
       " (6678, 'RBAC.WS', 'RBAC'),\n",
       " (6758, 'REXR', 'REXRpA'),\n",
       " (6759, 'REXRpA', 'REXRpB'),\n",
       " (6760, 'REXRpB', 'REXRpC'),\n",
       " (6761, 'REXRpC', 'REXR'),\n",
       " (6765, 'RF', 'RFpA'),\n",
       " (6766, 'RFpA', 'RFpB'),\n",
       " (6767, 'RFpB', 'RFpC'),\n",
       " (6768, 'RFpC', 'RF'),\n",
       " (6795, 'RHE', 'RHEpA'),\n",
       " (6796, 'RHEpA', 'RHE'),\n",
       " (6821, 'RIV', 'RIVr'),\n",
       " (6822, 'RIVr', 'RIV'),\n",
       " (6837, 'RLJ', 'RLJpA'),\n",
       " (6838, 'RLJpA', 'RLJ'),\n",
       " (6849, 'RMG', 'RMG.U'),\n",
       " (6850, 'RMG.U', 'RMG.WS'),\n",
       " (6851, 'RMG.WS', 'RMG'),\n",
       " (6871, 'RNR', 'RNRpE'),\n",
       " (6872, 'RNRpE', 'RNRpF'),\n",
       " (6873, 'RNRpF', 'RNR'),\n",
       " (6910, 'RPT', 'RPTpD'),\n",
       " (6911, 'RPTpD', 'RPT'),\n",
       " (6966, 'RY', 'RYpT'),\n",
       " (6967, 'RYpT', 'RY'),\n",
       " (7011, 'SAN', 'SANpB'),\n",
       " (7012, 'SANpB', 'SAN'),\n",
       " (7024, 'SB', 'SBpC'),\n",
       " (7025, 'SBpC', 'SBpD'),\n",
       " (7026, 'SBpD', 'SB'),\n",
       " (7032, 'SBE', 'SBE.U'),\n",
       " (7033, 'SBE.U', 'SBE.WS'),\n",
       " (7034, 'SBE.WS', 'SBE'),\n",
       " (7086, 'SCHW', 'SCHWpC'),\n",
       " (7087, 'SCHWpC', 'SCHWpD'),\n",
       " (7088, 'SCHWpD', 'SCHW'),\n",
       " (7105, 'SCVX', 'SCVX.U'),\n",
       " (7106, 'SCVX.U', 'SCVX.WS'),\n",
       " (7107, 'SCVX.WS', 'SCVX'),\n",
       " (7149, 'SF', 'SFpA'),\n",
       " (7150, 'SFpA', 'SFpB'),\n",
       " (7151, 'SFpB', 'SFpC'),\n",
       " (7152, 'SFpC', 'SF'),\n",
       " (7165, 'SFTW', 'SFTW.WS'),\n",
       " (7166, 'SFTW.WS', 'SFTW'),\n",
       " (7204, 'SHO', 'SHOpE'),\n",
       " (7205, 'SHOpE', 'SHO'),\n",
       " (7241, 'SITC', 'SITCpA'),\n",
       " (7242, 'SITCpA', 'SITCpK'),\n",
       " (7243, 'SITCpK', 'SITC'),\n",
       " (7280, 'SLG', 'SLGpI'),\n",
       " (7281, 'SLGpI', 'SLG'),\n",
       " (7371, 'SNV', 'SNVpD'),\n",
       " (7372, 'SNVpD', 'SNVpE'),\n",
       " (7373, 'SNVpE', 'SNV'),\n",
       " (7377, 'SOAC', 'SOAC.U'),\n",
       " (7378, 'SOAC.U', 'SOAC.WS'),\n",
       " (7379, 'SOAC.WS', 'SOAC'),\n",
       " (7413, 'SPAQ', 'SPAQ.U'),\n",
       " (7414, 'SPAQ.U', 'SPAQ.WS'),\n",
       " (7415, 'SPAQ.WS', 'SPAQ'),\n",
       " (7446, 'SPLP', 'SPLPpA'),\n",
       " (7447, 'SPLPpA', 'SPLP'),\n",
       " (7502, 'SR', 'SRpA'),\n",
       " (7503, 'SRpA', 'SR'),\n",
       " (7508, 'SRC', 'SRCpA'),\n",
       " (7509, 'SRCpA', 'SRC'),\n",
       " (7513, 'SRE', 'SREpA'),\n",
       " (7514, 'SREpA', 'SREpB'),\n",
       " (7515, 'SREpB', 'SRE'),\n",
       " (7519, 'SRG', 'SRGpA'),\n",
       " (7520, 'SRGpA', 'SRG'),\n",
       " (7560, 'STAG', 'STAGpC'),\n",
       " (7561, 'STAGpC', 'STAG'),\n",
       " (7562, 'STAR', 'STARpD'),\n",
       " (7563, 'STARpD', 'STARpG'),\n",
       " (7564, 'STARpG', 'STARpI'),\n",
       " (7565, 'STARpI', 'STAR'),\n",
       " (7579, 'STL', 'STLpA'),\n",
       " (7580, 'STLpA', 'STL'),\n",
       " (7606, 'STT', 'STTpD'),\n",
       " (7607, 'STTpD', 'STTpG'),\n",
       " (7608, 'STTpG', 'STT'),\n",
       " (7664, 'SYF', 'SYFpA'),\n",
       " (7665, 'SYFpA', 'SYF'),\n",
       " (7685, 'T', 'TpA'),\n",
       " (7686, 'TpA', 'TpC'),\n",
       " (7687, 'TpC', 'T'),\n",
       " (7700, 'TALO', 'TALO.WS'),\n",
       " (7701, 'TALO.WS', 'TALO'),\n",
       " (7747, 'TCO', 'TCOpJ'),\n",
       " (7748, 'TCOpJ', 'TCOpK'),\n",
       " (7749, 'TCOpK', 'TCO'),\n",
       " (7780, 'TDW', 'TDW.WS.A'),\n",
       " (7781, 'TDW.WS', 'TDW.WS.B'),\n",
       " (7782, 'TDW.WS.A', 'TDW.WS'),\n",
       " (7783, 'TDW.WS.B', 'TDW'),\n",
       " (7810, 'TFC', 'TFCpF'),\n",
       " (7811, 'TFCpF', 'TFCpG'),\n",
       " (7812, 'TFCpG', 'TFCpH'),\n",
       " (7813, 'TFCpH', 'TFCpI'),\n",
       " (7814, 'TFCpI', 'TFCpO'),\n",
       " (7815, 'TFCpO', 'TFCpR'),\n",
       " (7816, 'TFCpR', 'TFC'),\n",
       " (7835, 'TGP', 'TGPpA'),\n",
       " (7836, 'TGPpA', 'TGPpB'),\n",
       " (7837, 'TGPpB', 'TGP'),\n",
       " (7919, 'TNP', 'TNPpC'),\n",
       " (7920, 'TNPpC', 'TNPpD'),\n",
       " (7921, 'TNPpD', 'TNPpE'),\n",
       " (7922, 'TNPpE', 'TNPpF'),\n",
       " (7923, 'TNPpF', 'TNP'),\n",
       " (7964, 'TREB', 'TREB.U'),\n",
       " (7965, 'TREB.U', 'TREB.WS'),\n",
       " (7966, 'TREB.WS', 'TREB'),\n",
       " (7982, 'TRNE', 'TRNE.WS'),\n",
       " (7983, 'TRNE.WS', 'TRNE'),\n",
       " (7993, 'TRTN', 'TRTNpA'),\n",
       " (7994, 'TRTNpA', 'TRTNpB'),\n",
       " (7995, 'TRTNpB', 'TRTNpC'),\n",
       " (7996, 'TRTNpC', 'TRTNpD'),\n",
       " (7997, 'TRTNpD', 'TRTN'),\n",
       " (8065, 'TWO', 'TWOpA'),\n",
       " (8066, 'TWOpA', 'TWOpB'),\n",
       " (8067, 'TWOpB', 'TWOpC'),\n",
       " (8068, 'TWOpC', 'TWOpD'),\n",
       " (8069, 'TWOpD', 'TWOpE'),\n",
       " (8070, 'TWOpE', 'TWO'),\n",
       " (8109, 'UBP', 'UBPpH'),\n",
       " (8110, 'UBPpH', 'UBPpK'),\n",
       " (8111, 'UBPpK', 'UBP'),\n",
       " (8178, 'UMH', 'UMHpC'),\n",
       " (8179, 'UMHpC', 'UMHpD'),\n",
       " (8180, 'UMHpD', 'UMH'),\n",
       " (8223, 'USB', 'USBpH'),\n",
       " (8224, 'USBpH', 'USBpM'),\n",
       " (8225, 'USBpM', 'USBpO'),\n",
       " (8226, 'USBpO', 'USBpP'),\n",
       " (8227, 'USBpP', 'USB'),\n",
       " (8274, 'UTZ', 'UTZ.WS'),\n",
       " (8275, 'UTZ.WS', 'UTZ'),\n",
       " (8337, 'VER', 'VERpF'),\n",
       " (8338, 'VERpF', 'VER'),\n",
       " (8437, 'VNO', 'VNOpK'),\n",
       " (8438, 'VNOpK', 'VNOpL'),\n",
       " (8439, 'VNOpL', 'VNOpM'),\n",
       " (8440, 'VNOpM', 'VNO'),\n",
       " (8462, 'VOYA', 'VOYApB'),\n",
       " (8463, 'VOYApB', 'VOYA'),\n",
       " (8486, 'VRT', 'VRT.WS'),\n",
       " (8487, 'VRT.WS', 'VRT'),\n",
       " (8502, 'VST', 'VST.WS.A'),\n",
       " (8503, 'VST.WS.A', 'VST'),\n",
       " (8531, 'VVNT', 'VVNT.WS'),\n",
       " (8532, 'VVNT.WS', 'VVNT'),\n",
       " (8574, 'WBS', 'WBSpF'),\n",
       " (8575, 'WBSpF', 'WBS'),\n",
       " (8577, 'WCC', 'WCCpA'),\n",
       " (8578, 'WCCpA', 'WCC'),\n",
       " (8601, 'WFC', 'WFCpL'),\n",
       " (8602, 'WFCpL', 'WFCpN'),\n",
       " (8603, 'WFCpN', 'WFCpO'),\n",
       " (8604, 'WFCpO', 'WFCpP'),\n",
       " (8605, 'WFCpP', 'WFCpQ'),\n",
       " (8606, 'WFCpQ', 'WFCpR'),\n",
       " (8607, 'WFCpR', 'WFCpT'),\n",
       " (8608, 'WFCpT', 'WFCpV'),\n",
       " (8609, 'WFCpV', 'WFCpW'),\n",
       " (8610, 'WFCpW', 'WFCpX'),\n",
       " (8611, 'WFCpX', 'WFCpY'),\n",
       " (8612, 'WFCpY', 'WFCpZ'),\n",
       " (8613, 'WFCpZ', 'WFC'),\n",
       " (8672, 'WPF', 'WPF.U'),\n",
       " (8673, 'WPF.U', 'WPF.WS'),\n",
       " (8674, 'WPF.WS', 'WPF'),\n",
       " (8675, 'WPG', 'WPGpH'),\n",
       " (8676, 'WPGpH', 'WPGpI'),\n",
       " (8677, 'WPGpI', 'WPG'),\n",
       " (8683, 'WRB', 'WRBpB'),\n",
       " (8684, 'WRBpB', 'WRBpC'),\n",
       " (8685, 'WRBpC', 'WRBpD'),\n",
       " (8686, 'WRBpD', 'WRBpE'),\n",
       " (8687, 'WRBpE', 'WRBpF'),\n",
       " (8688, 'WRBpF', 'WRBpG'),\n",
       " (8689, 'WRBpG', 'WRB'),\n",
       " (8740, 'XAN', 'XANpC'),\n",
       " (8741, 'XANpC', 'XAN'),\n",
       " (8833, 'YAC', 'YAC.U'),\n",
       " (8834, 'YAC.U', 'YAC.WS'),\n",
       " (8835, 'YAC.WS', 'YAC'),\n",
       " (8838, 'YCBD', 'YCBDpA'),\n",
       " (8839, 'YCBDpA', 'YCBD')]"
      ]
     },
     "execution_count": 341,
     "metadata": {},
     "output_type": "execute_result"
    }
   ],
   "source": [
    "# l1 = sorted(hive_table.column(\"ticker\").to_pylist())\n",
    "# l2 = sorted(part_table.column(\"ticker\").to_pylist())\n",
    "# l1 = hive_table.column(\"ticker\").to_pylist()\n",
    "# l2 = part_table.column(\"ticker\").to_pylist()\n",
    "l1 = hive_table.column(\"ticker\").to_pylist()\n",
    "l2 = part_table.column(\"ticker\").to_pylist()\n",
    "print(f\"{len(l1)=} {len(l2)=}\")\n",
    "print(f\"{len(l1)==len(l2)=}\")\n",
    "mismatches = [(i, l1[i], l2[i]) for i in range(min(len(l1), len(l2))) if l1[i] != l2[i]]\n",
    "mismatches"
   ]
  },
  {
   "cell_type": "code",
   "execution_count": null,
   "metadata": {},
   "outputs": [],
   "source": [
    "mismatches"
   ]
  },
  {
   "cell_type": "code",
   "execution_count": null,
   "metadata": {},
   "outputs": [],
   "source": [
    "filtered_table = new_table.filter(pa.compute.(table['new_table'], 'a'))"
   ]
  },
  {
   "cell_type": "code",
   "execution_count": 264,
   "metadata": {},
   "outputs": [
    {
     "data": {
      "text/plain": [
       "{'BCPC', 'CPK', 'CPS', 'TPC'}"
      ]
     },
     "execution_count": 264,
     "metadata": {},
     "output_type": "execute_result"
    }
   ],
   "source": [
    "missing_tickers = set(l1) - set(l2)\n",
    "missing_tickers"
   ]
  },
  {
   "cell_type": "code",
   "execution_count": 268,
   "metadata": {},
   "outputs": [
    {
     "data": {
      "text/html": [
       "<div>\n",
       "<style scoped>\n",
       "    .dataframe tbody tr th:only-of-type {\n",
       "        vertical-align: middle;\n",
       "    }\n",
       "\n",
       "    .dataframe tbody tr th {\n",
       "        vertical-align: top;\n",
       "    }\n",
       "\n",
       "    .dataframe thead th {\n",
       "        text-align: right;\n",
       "    }\n",
       "</style>\n",
       "<table border=\"1\" class=\"dataframe\">\n",
       "  <thead>\n",
       "    <tr style=\"text-align: right;\">\n",
       "      <th></th>\n",
       "      <th>ticker</th>\n",
       "      <th>volume</th>\n",
       "      <th>open</th>\n",
       "      <th>close</th>\n",
       "      <th>high</th>\n",
       "      <th>low</th>\n",
       "      <th>window_start</th>\n",
       "      <th>transactions</th>\n",
       "    </tr>\n",
       "  </thead>\n",
       "  <tbody>\n",
       "    <tr>\n",
       "      <th>809</th>\n",
       "      <td>BCPC</td>\n",
       "      <td>132874</td>\n",
       "      <td>101.85</td>\n",
       "      <td>101.14</td>\n",
       "      <td>103.50</td>\n",
       "      <td>101.14</td>\n",
       "      <td>2020-10-07 04:00:00+00:00</td>\n",
       "      <td>2820</td>\n",
       "    </tr>\n",
       "    <tr>\n",
       "      <th>1728</th>\n",
       "      <td>CPK</td>\n",
       "      <td>128262</td>\n",
       "      <td>86.67</td>\n",
       "      <td>86.31</td>\n",
       "      <td>86.80</td>\n",
       "      <td>85.24</td>\n",
       "      <td>2020-10-07 04:00:00+00:00</td>\n",
       "      <td>2309</td>\n",
       "    </tr>\n",
       "    <tr>\n",
       "      <th>1734</th>\n",
       "      <td>CPS</td>\n",
       "      <td>118020</td>\n",
       "      <td>15.62</td>\n",
       "      <td>16.12</td>\n",
       "      <td>16.36</td>\n",
       "      <td>15.62</td>\n",
       "      <td>2020-10-07 04:00:00+00:00</td>\n",
       "      <td>2633</td>\n",
       "    </tr>\n",
       "    <tr>\n",
       "      <th>7940</th>\n",
       "      <td>TPC</td>\n",
       "      <td>537608</td>\n",
       "      <td>12.86</td>\n",
       "      <td>13.61</td>\n",
       "      <td>13.88</td>\n",
       "      <td>12.82</td>\n",
       "      <td>2020-10-07 04:00:00+00:00</td>\n",
       "      <td>3859</td>\n",
       "    </tr>\n",
       "  </tbody>\n",
       "</table>\n",
       "</div>"
      ],
      "text/plain": [
       "     ticker  volume    open   close    high     low              window_start  \\\n",
       "809    BCPC  132874  101.85  101.14  103.50  101.14 2020-10-07 04:00:00+00:00   \n",
       "1728    CPK  128262   86.67   86.31   86.80   85.24 2020-10-07 04:00:00+00:00   \n",
       "1734    CPS  118020   15.62   16.12   16.36   15.62 2020-10-07 04:00:00+00:00   \n",
       "7940    TPC  537608   12.86   13.61   13.88   12.82 2020-10-07 04:00:00+00:00   \n",
       "\n",
       "      transactions  \n",
       "809           2820  \n",
       "1728          2309  \n",
       "1734          2633  \n",
       "7940          3859  "
      ]
     },
     "execution_count": 268,
     "metadata": {},
     "output_type": "execute_result"
    }
   ],
   "source": [
    "df = new_table.to_pandas()\n",
    "df[df['ticker'].isin(missing_tickers)]"
   ]
  },
  {
   "cell_type": "code",
   "execution_count": 283,
   "metadata": {},
   "outputs": [
    {
     "data": {
      "text/plain": [
       "(True, True)"
      ]
     },
     "execution_count": 283,
     "metadata": {},
     "output_type": "execute_result"
    }
   ],
   "source": [
    "'BCpC' in df['ticker'].unique(), 'BCPC' in df['ticker'].unique()"
   ]
  },
  {
   "cell_type": "code",
   "execution_count": 272,
   "metadata": {},
   "outputs": [
    {
     "data": {
      "text/html": [
       "<div>\n",
       "<style scoped>\n",
       "    .dataframe tbody tr th:only-of-type {\n",
       "        vertical-align: middle;\n",
       "    }\n",
       "\n",
       "    .dataframe tbody tr th {\n",
       "        vertical-align: top;\n",
       "    }\n",
       "\n",
       "    .dataframe thead th {\n",
       "        text-align: right;\n",
       "    }\n",
       "</style>\n",
       "<table border=\"1\" class=\"dataframe\">\n",
       "  <thead>\n",
       "    <tr style=\"text-align: right;\">\n",
       "      <th></th>\n",
       "      <th>ticker</th>\n",
       "      <th>volume</th>\n",
       "      <th>open</th>\n",
       "      <th>close</th>\n",
       "      <th>high</th>\n",
       "      <th>low</th>\n",
       "      <th>window_start</th>\n",
       "      <th>transactions</th>\n",
       "    </tr>\n",
       "  </thead>\n",
       "  <tbody>\n",
       "  </tbody>\n",
       "</table>\n",
       "</div>"
      ],
      "text/plain": [
       "Empty DataFrame\n",
       "Columns: [ticker, volume, open, close, high, low, window_start, transactions]\n",
       "Index: []"
      ]
     },
     "execution_count": 272,
     "metadata": {},
     "output_type": "execute_result"
    }
   ],
   "source": [
    "df[df['ticker'].apply(lambda t: t.lower in set(x.lower for x in missing_tickers))]"
   ]
  },
  {
   "cell_type": "code",
   "execution_count": 270,
   "metadata": {},
   "outputs": [
    {
     "data": {
      "text/html": [
       "<div>\n",
       "<style scoped>\n",
       "    .dataframe tbody tr th:only-of-type {\n",
       "        vertical-align: middle;\n",
       "    }\n",
       "\n",
       "    .dataframe tbody tr th {\n",
       "        vertical-align: top;\n",
       "    }\n",
       "\n",
       "    .dataframe thead th {\n",
       "        text-align: right;\n",
       "    }\n",
       "</style>\n",
       "<table border=\"1\" class=\"dataframe\">\n",
       "  <thead>\n",
       "    <tr style=\"text-align: right;\">\n",
       "      <th></th>\n",
       "      <th>volume</th>\n",
       "      <th>open</th>\n",
       "      <th>close</th>\n",
       "      <th>high</th>\n",
       "      <th>low</th>\n",
       "      <th>window_start</th>\n",
       "      <th>transactions</th>\n",
       "      <th>ticker</th>\n",
       "    </tr>\n",
       "  </thead>\n",
       "  <tbody>\n",
       "  </tbody>\n",
       "</table>\n",
       "</div>"
      ],
      "text/plain": [
       "Empty DataFrame\n",
       "Columns: [volume, open, close, high, low, window_start, transactions, ticker]\n",
       "Index: []"
      ]
     },
     "execution_count": 270,
     "metadata": {},
     "output_type": "execute_result"
    }
   ],
   "source": [
    "df2 = one_chunk_table.to_pandas()\n",
    "df2[df2['ticker'].isin(missing_tickers)]"
   ]
  },
  {
   "cell_type": "code",
   "execution_count": 282,
   "metadata": {},
   "outputs": [
    {
     "data": {
      "text/plain": [
       "(True, False)"
      ]
     },
     "execution_count": 282,
     "metadata": {},
     "output_type": "execute_result"
    }
   ],
   "source": [
    "'BCpC' in df2['ticker'].unique(), 'BCPC' in df2['ticker'].unique()"
   ]
  },
  {
   "cell_type": "code",
   "execution_count": 252,
   "metadata": {},
   "outputs": [
    {
     "data": {
      "text/plain": [
       "False"
      ]
     },
     "execution_count": 252,
     "metadata": {},
     "output_type": "execute_result"
    }
   ],
   "source": [
    "unchunked_table.column(\"ticker\").to_pylist() == one_chunk_table.column(\"ticker\").to_pylist()"
   ]
  },
  {
   "cell_type": "code",
   "execution_count": 160,
   "metadata": {},
   "outputs": [
    {
     "data": {
      "text/plain": [
       "False"
      ]
     },
     "execution_count": 160,
     "metadata": {},
     "output_type": "execute_result"
    }
   ],
   "source": [
    "sorted_table = unchunked_table.sort_by([(\"ticker\", \"ascending\"), (\"window_start\", \"ascending\")])\n",
    "unchunked_table.equals(sorted_table)"
   ]
  },
  {
   "cell_type": "code",
   "execution_count": 206,
   "metadata": {},
   "outputs": [
    {
     "data": {
      "text/plain": [
       "<pyarrow.lib.UInt64Array object at 0x35fb674c0>\n",
       "[\n",
       "  0,\n",
       "  1,\n",
       "  2,\n",
       "  3,\n",
       "  4,\n",
       "  5,\n",
       "  6,\n",
       "  7,\n",
       "  8,\n",
       "  9,\n",
       "  ...\n",
       "  1420793,\n",
       "  1420794,\n",
       "  1420795,\n",
       "  1420796,\n",
       "  1420797,\n",
       "  1420798,\n",
       "  1420799,\n",
       "  1420800,\n",
       "  1420801,\n",
       "  1420802\n",
       "]"
      ]
     },
     "execution_count": 206,
     "metadata": {},
     "output_type": "execute_result"
    }
   ],
   "source": [
    "sorted_indicies = pyarrow.compute.sort_indices(new_table, sort_keys=[(\"ticker\", \"ascending\"), (\"window_start\", \"ascending\")])\n",
    "sorted_indicies"
   ]
  },
  {
   "cell_type": "code",
   "execution_count": 207,
   "metadata": {},
   "outputs": [
    {
     "data": {
      "text/plain": [
       "<pyarrow.lib.UInt64Array object at 0x35fb67ca0>\n",
       "[\n",
       "  null,\n",
       "  1,\n",
       "  1,\n",
       "  1,\n",
       "  1,\n",
       "  1,\n",
       "  1,\n",
       "  1,\n",
       "  1,\n",
       "  1,\n",
       "  ...\n",
       "  1,\n",
       "  1,\n",
       "  1,\n",
       "  1,\n",
       "  1,\n",
       "  1,\n",
       "  1,\n",
       "  1,\n",
       "  1,\n",
       "  1\n",
       "]"
      ]
     },
     "execution_count": 207,
     "metadata": {},
     "output_type": "execute_result"
    }
   ],
   "source": [
    "deltas = pyarrow.compute.pairwise_diff(sorted_indicies)\n",
    "deltas"
   ]
  },
  {
   "cell_type": "code",
   "execution_count": 229,
   "metadata": {},
   "outputs": [
    {
     "data": {
      "text/plain": [
       "[{'values': 1, 'counts': 1420550},\n",
       " {'values': 30, 'counts': 4},\n",
       " {'values': 18446744073709551571, 'counts': 1},\n",
       " {'values': 18, 'counts': 2},\n",
       " {'values': 3, 'counts': 1},\n",
       " {'values': 47, 'counts': 1},\n",
       " {'values': 18446744073709551474, 'counts': 1},\n",
       " {'values': 98, 'counts': 1},\n",
       " {'values': 18446744073709547632, 'counts': 1},\n",
       " {'values': 3984, 'counts': 1},\n",
       " {'values': 46, 'counts': 4},\n",
       " {'values': 277, 'counts': 1},\n",
       " {'values': 18446744073709549836, 'counts': 1},\n",
       " {'values': 1506, 'counts': 1},\n",
       " {'values': 29, 'counts': 1},\n",
       " {'values': 18446744073709551537, 'counts': 1},\n",
       " {'values': 53, 'counts': 3},\n",
       " {'values': 18446744073709542097, 'counts': 1},\n",
       " {'values': 9476, 'counts': 1},\n",
       " {'values': 90, 'counts': 1},\n",
       " {'values': 18446744073709551525, 'counts': 1},\n",
       " {'values': 4, 'counts': 8},\n",
       " {'values': 60, 'counts': 1},\n",
       " {'values': 18446744073709551280, 'counts': 1},\n",
       " {'values': 279, 'counts': 1},\n",
       " {'values': 181, 'counts': 1},\n",
       " {'values': 18446744073709550846, 'counts': 1},\n",
       " {'values': 592, 'counts': 1},\n",
       " {'values': 18446744073709551309, 'counts': 1},\n",
       " {'values': 257, 'counts': 2},\n",
       " {'values': 18446744073709547770, 'counts': 1},\n",
       " {'values': 3796, 'counts': 1},\n",
       " {'values': 16, 'counts': 2},\n",
       " {'values': 18446744073709551225, 'counts': 1},\n",
       " {'values': 378, 'counts': 1},\n",
       " {'values': 17, 'counts': 3},\n",
       " {'values': 18446744073709551545, 'counts': 1},\n",
       " {'values': 57, 'counts': 2},\n",
       " {'values': 24, 'counts': 2},\n",
       " {'values': 18446744073709551303, 'counts': 2},\n",
       " {'values': 292, 'counts': 1},\n",
       " {'values': 40, 'counts': 1},\n",
       " {'values': 18446744073709548064, 'counts': 1},\n",
       " {'values': 3515, 'counts': 1},\n",
       " {'values': 116, 'counts': 1},\n",
       " {'values': 18446744073709551493, 'counts': 1},\n",
       " {'values': 10, 'counts': 1},\n",
       " {'values': 382, 'counts': 2},\n",
       " {'values': 61, 'counts': 1},\n",
       " {'values': 18446744073709551512, 'counts': 1},\n",
       " {'values': 18446744073709551502, 'counts': 1},\n",
       " {'values': 113, 'counts': 1},\n",
       " {'values': 476, 'counts': 1},\n",
       " {'values': 18446744073709551127, 'counts': 1},\n",
       " {'values': 18446744073709551378, 'counts': 1},\n",
       " {'values': 237, 'counts': 1},\n",
       " {'values': 18446744073709430956, 'counts': 1},\n",
       " {'values': 120281, 'counts': 1},\n",
       " {'values': 43, 'counts': 2},\n",
       " {'values': 273, 'counts': 1},\n",
       " {'values': 18446744073709549846, 'counts': 1},\n",
       " {'values': 1769, 'counts': 1},\n",
       " {'values': 58, 'counts': 2},\n",
       " {'values': 18446744073709551433, 'counts': 1},\n",
       " {'values': 128, 'counts': 1},\n",
       " {'values': 19, 'counts': 2},\n",
       " {'values': 18446744073709549763, 'counts': 1},\n",
       " {'values': 1837, 'counts': 1},\n",
       " {'values': 7, 'counts': 2},\n",
       " {'values': 64, 'counts': 1},\n",
       " {'values': 18446744073709551137, 'counts': 1},\n",
       " {'values': 418, 'counts': 1},\n",
       " {'values': 18446744073709548195, 'counts': 1},\n",
       " {'values': 3417, 'counts': 1},\n",
       " {'values': 8, 'counts': 1},\n",
       " {'values': 18446744073709551256, 'counts': 1},\n",
       " {'values': 355, 'counts': 1},\n",
       " {'values': 18446744073709489465, 'counts': 1},\n",
       " {'values': 61897, 'counts': 1},\n",
       " {'values': 41, 'counts': 2},\n",
       " {'values': 18446744073709551481, 'counts': 1},\n",
       " {'values': 97, 'counts': 1},\n",
       " {'values': 5, 'counts': 2},\n",
       " {'values': 18446744073709551568, 'counts': 1},\n",
       " {'values': 12, 'counts': 3},\n",
       " {'values': 18446744073709551603, 'counts': 1},\n",
       " {'values': 18446744073709551528, 'counts': 1},\n",
       " {'values': 74, 'counts': 1},\n",
       " {'values': 18446744073709551066, 'counts': 1},\n",
       " {'values': 529, 'counts': 1},\n",
       " {'values': 18446744073709551201, 'counts': 1},\n",
       " {'values': 414, 'counts': 1},\n",
       " {'values': 18446744073709545474, 'counts': 1},\n",
       " {'values': 6115, 'counts': 1},\n",
       " {'values': 18446744073709551530, 'counts': 1},\n",
       " {'values': 2, 'counts': 4},\n",
       " {'values': 18446744073709551211, 'counts': 2},\n",
       " {'values': 406, 'counts': 1},\n",
       " {'values': 494, 'counts': 1},\n",
       " {'values': 20, 'counts': 2},\n",
       " {'values': 18446744073709551350, 'counts': 1},\n",
       " {'values': 249, 'counts': 1},\n",
       " {'values': 18446744073709546994, 'counts': 1},\n",
       " {'values': 4131, 'counts': 1},\n",
       " {'values': 42, 'counts': 1},\n",
       " {'values': 18446744073709547928, 'counts': 1},\n",
       " {'values': 3649, 'counts': 1},\n",
       " {'values': 438, 'counts': 1},\n",
       " {'values': 18446744073709551146, 'counts': 1},\n",
       " {'values': 35, 'counts': 2},\n",
       " {'values': 143, 'counts': 1},\n",
       " {'values': 18446744073709551105, 'counts': 1},\n",
       " {'values': 371, 'counts': 1},\n",
       " {'values': 18446744073709551301, 'counts': 1},\n",
       " {'values': 316, 'counts': 1},\n",
       " {'values': 52, 'counts': 1},\n",
       " {'values': 18446744073709551412, 'counts': 1},\n",
       " {'values': 155, 'counts': 1},\n",
       " {'values': 217, 'counts': 1},\n",
       " {'values': 18446744073709551326, 'counts': 1},\n",
       " {'values': 76, 'counts': 1},\n",
       " {'values': 32, 'counts': 1},\n",
       " {'values': 18446744073709551518, 'counts': 2},\n",
       " {'values': 69, 'counts': 1},\n",
       " {'values': 18446744073709550712, 'counts': 1},\n",
       " {'values': 866, 'counts': 1},\n",
       " {'values': 18446744073709551017, 'counts': 1},\n",
       " {'values': 544, 'counts': 1},\n",
       " {'values': 425, 'counts': 1},\n",
       " {'values': 18446744073709548099, 'counts': 1},\n",
       " {'values': 3095, 'counts': 1},\n",
       " {'values': 95, 'counts': 1},\n",
       " {'values': 18446744073709551292, 'counts': 1},\n",
       " {'values': 232, 'counts': 1},\n",
       " {'values': 63, 'counts': 2},\n",
       " {'values': 18446744073709551288, 'counts': 1},\n",
       " {'values': 268, 'counts': 1},\n",
       " {'values': 490, 'counts': 1},\n",
       " {'values': 18446744073709551125, 'counts': 1},\n",
       " {'values': 75, 'counts': 1},\n",
       " {'values': 18446744073709551517, 'counts': 1},\n",
       " {'values': 27, 'counts': 1},\n",
       " {'values': 44, 'counts': 1},\n",
       " {'values': 18446744073709549841, 'counts': 1},\n",
       " {'values': 1734, 'counts': 1},\n",
       " {'values': 15, 'counts': 1},\n",
       " {'values': 18446744073709549688, 'counts': 1},\n",
       " {'values': 1916, 'counts': 1},\n",
       " {'values': 101, 'counts': 2},\n",
       " {'values': 18446744073709549544, 'counts': 1},\n",
       " {'values': 1974, 'counts': 1},\n",
       " {'values': 28, 'counts': 2},\n",
       " {'values': 18446744073709551577, 'counts': 1},\n",
       " {'values': 14, 'counts': 1},\n",
       " {'values': 65, 'counts': 1},\n",
       " {'values': 18446744073709551524, 'counts': 1},\n",
       " {'values': 66, 'counts': 1},\n",
       " {'values': 18446744073709551060, 'counts': 1},\n",
       " {'values': 502, 'counts': 1},\n",
       " {'values': 18446744073709551506, 'counts': 2},\n",
       " {'values': 50, 'counts': 1},\n",
       " {'values': 346, 'counts': 1},\n",
       " {'values': 18446744073709551186, 'counts': 1},\n",
       " {'values': 87, 'counts': 1},\n",
       " {'values': 18446744073709551014, 'counts': 1},\n",
       " {'values': 603, 'counts': 1},\n",
       " {'values': 149, 'counts': 2},\n",
       " {'values': 18446744073709551051, 'counts': 1},\n",
       " {'values': 419, 'counts': 1},\n",
       " {'values': 94, 'counts': 1},\n",
       " {'values': 18446744073709551520, 'counts': 1},\n",
       " {'values': 18446744073709551522, 'counts': 1},\n",
       " {'values': 79, 'counts': 1},\n",
       " {'values': 18446744073709550258, 'counts': 1},\n",
       " {'values': 1359, 'counts': 1},\n",
       " {'values': 18446744073709550938, 'counts': 1},\n",
       " {'values': 662, 'counts': 1},\n",
       " {'values': 18446744073709546716, 'counts': 1},\n",
       " {'values': 4883, 'counts': 1},\n",
       " {'values': 68, 'counts': 1},\n",
       " {'values': 18446744073709549693, 'counts': 1},\n",
       " {'values': 1858, 'counts': 1},\n",
       " {'values': 18446744073709550839, 'counts': 1},\n",
       " {'values': 768, 'counts': 1},\n",
       " {'values': 18446744073709551217, 'counts': 1},\n",
       " {'values': 385, 'counts': 1},\n",
       " {'values': 26, 'counts': 1},\n",
       " {'values': 38, 'counts': 1},\n",
       " {'values': 18446744073709551253, 'counts': 1},\n",
       " {'values': 328, 'counts': 1},\n",
       " {'values': 18446744073709551404, 'counts': 1},\n",
       " {'values': 211, 'counts': 1},\n",
       " {'values': 18446744073709546073, 'counts': 1},\n",
       " {'values': 5516, 'counts': 1},\n",
       " {'values': 18446744073709551222, 'counts': 1},\n",
       " {'values': 390, 'counts': 1},\n",
       " {'values': 251, 'counts': 1},\n",
       " {'values': 18446744073709550986, 'counts': 1},\n",
       " {'values': 605, 'counts': 1},\n",
       " {'values': 231, 'counts': 1},\n",
       " {'values': 18446744073709551024, 'counts': 1},\n",
       " {'values': 364, 'counts': 1},\n",
       " {'values': 18446744073709481649, 'counts': 1},\n",
       " {'values': 69719, 'counts': 1},\n",
       " {'values': 34, 'counts': 1},\n",
       " {'values': 18446744073709550694, 'counts': 1},\n",
       " {'values': 891, 'counts': 1},\n",
       " {'values': 108, 'counts': 1},\n",
       " {'values': 18446744073709551362, 'counts': 1}]"
      ]
     },
     "execution_count": 229,
     "metadata": {},
     "output_type": "execute_result"
    }
   ],
   "source": [
    "deltas.drop_null().value_counts().tolist()"
   ]
  },
  {
   "cell_type": "code",
   "execution_count": 161,
   "metadata": {},
   "outputs": [
    {
     "data": {
      "text/plain": [
       "pyarrow.Table\n",
       "ticker: string\n",
       "volume: int64\n",
       "open: double\n",
       "close: double\n",
       "high: double\n",
       "low: double\n",
       "window_start: timestamp[ns, tz=UTC]\n",
       "transactions: int64\n",
       "----\n",
       "ticker: [[\"A\",\"A\",\"A\",\"A\",\"A\",...,\"ZYXI\",\"ZYXI\",\"ZYXI\",\"ZYXI\",\"ZYXI\"]]\n",
       "volume: [[714,9178,177,529,3206,...,4158,2192,4779,8271,6232]]\n",
       "open: [[101.6537,102.47,102.49,102.925,102.88,...,19.44,19.445,19.45,19.4196,19.38]]\n",
       "close: [[101.6537,102.44,102.49,102.98,103,...,19.445,19.45,19.42,19.41,19.38]]\n",
       "high: [[101.6537,102.47,102.49,102.98,103,...,19.445,19.45,19.45,19.42,19.38]]\n",
       "low: [[101.6537,102.42,102.49,102.92,102.84,...,19.43,19.445,19.42,19.38,19.38]]\n",
       "window_start: [[2020-10-07 13:09:00.000000000Z,2020-10-07 13:30:00.000000000Z,2020-10-07 13:31:00.000000000Z,2020-10-07 13:32:00.000000000Z,2020-10-07 13:33:00.000000000Z,...,2020-10-07 19:56:00.000000000Z,2020-10-07 19:57:00.000000000Z,2020-10-07 19:58:00.000000000Z,2020-10-07 19:59:00.000000000Z,2020-10-07 20:00:00.000000000Z]]\n",
       "transactions: [[1,16,8,12,67,...,55,48,114,104,12]]"
      ]
     },
     "execution_count": 161,
     "metadata": {},
     "output_type": "execute_result"
    }
   ],
   "source": [
    "sorted_table"
   ]
  },
  {
   "cell_type": "code",
   "execution_count": 149,
   "metadata": {},
   "outputs": [
    {
     "data": {
      "text/plain": [
       "(1420803, 8)"
      ]
     },
     "execution_count": 149,
     "metadata": {},
     "output_type": "execute_result"
    }
   ],
   "source": [
    "sorted_table.shape"
   ]
  },
  {
   "cell_type": "code",
   "execution_count": 193,
   "metadata": {},
   "outputs": [
    {
     "data": {
      "text/plain": [
       "<pyarrow.lib.ChunkedArray object at 0x35fa40860>\n",
       "[\n",
       "  [\n",
       "    2020-10-07 13:09:00.000000000Z,\n",
       "    2020-10-07 13:30:00.000000000Z,\n",
       "    2020-10-07 13:31:00.000000000Z,\n",
       "    2020-10-07 13:32:00.000000000Z,\n",
       "    2020-10-07 13:33:00.000000000Z,\n",
       "    ...\n",
       "    2020-10-07 19:56:00.000000000Z,\n",
       "    2020-10-07 19:57:00.000000000Z,\n",
       "    2020-10-07 19:58:00.000000000Z,\n",
       "    2020-10-07 19:59:00.000000000Z,\n",
       "    2020-10-07 20:00:00.000000000Z\n",
       "  ]\n",
       "]"
      ]
     },
     "execution_count": 193,
     "metadata": {},
     "output_type": "execute_result"
    }
   ],
   "source": [
    "unchunked_table.column(\"window_start\")"
   ]
  },
  {
   "cell_type": "code",
   "execution_count": 195,
   "metadata": {},
   "outputs": [
    {
     "data": {
      "text/plain": [
       "True"
      ]
     },
     "execution_count": 195,
     "metadata": {},
     "output_type": "execute_result"
    }
   ],
   "source": [
    "unchunked_table.column(\"window_start\") == sorted_table.column(\"window_start\")"
   ]
  },
  {
   "cell_type": "code",
   "execution_count": 200,
   "metadata": {},
   "outputs": [
    {
     "ename": "AttributeError",
     "evalue": "'pyarrow.lib.ChunkedArray' object has no attribute 'to_array'",
     "output_type": "error",
     "traceback": [
      "\u001b[0;31m---------------------------------------------------------------------------\u001b[0m",
      "\u001b[0;31mAttributeError\u001b[0m                            Traceback (most recent call last)",
      "Cell \u001b[0;32mIn[200], line 1\u001b[0m\n\u001b[0;32m----> 1\u001b[0m \u001b[43munchunked_table\u001b[49m\u001b[38;5;241;43m.\u001b[39;49m\u001b[43mcolumn\u001b[49m\u001b[43m(\u001b[49m\u001b[38;5;124;43m\"\u001b[39;49m\u001b[38;5;124;43mwindow_start\u001b[39;49m\u001b[38;5;124;43m\"\u001b[39;49m\u001b[43m)\u001b[49m\u001b[38;5;241;43m.\u001b[39;49m\u001b[43mto_array\u001b[49m()\u001b[38;5;241m.\u001b[39mdiff(sorted_table\u001b[38;5;241m.\u001b[39mcolumn(\u001b[38;5;124m\"\u001b[39m\u001b[38;5;124mwindow_start\u001b[39m\u001b[38;5;124m\"\u001b[39m)\u001b[38;5;241m.\u001b[39mto_array())\n",
      "\u001b[0;31mAttributeError\u001b[0m: 'pyarrow.lib.ChunkedArray' object has no attribute 'to_array'"
     ]
    }
   ],
   "source": [
    "unchunked_table.column(\"window_start\").to_array().diff(sorted_table.column(\"window_start\").to_array())"
   ]
  },
  {
   "cell_type": "code",
   "execution_count": 203,
   "metadata": {},
   "outputs": [],
   "source": [
    "import pyarrow"
   ]
  },
  {
   "cell_type": "code",
   "execution_count": 205,
   "metadata": {},
   "outputs": [
    {
     "ename": "AttributeError",
     "evalue": "'pyarrow.lib.ChunkedArray' object has no attribute 'to_array'",
     "output_type": "error",
     "traceback": [
      "\u001b[0;31m---------------------------------------------------------------------------\u001b[0m",
      "\u001b[0;31mAttributeError\u001b[0m                            Traceback (most recent call last)",
      "Cell \u001b[0;32mIn[205], line 1\u001b[0m\n\u001b[0;32m----> 1\u001b[0m pyarrow\u001b[38;5;241m.\u001b[39mcompute\u001b[38;5;241m.\u001b[39mpairwise_diff(\u001b[43munchunked_table\u001b[49m\u001b[38;5;241;43m.\u001b[39;49m\u001b[43mcolumn\u001b[49m\u001b[43m(\u001b[49m\u001b[38;5;124;43m\"\u001b[39;49m\u001b[38;5;124;43mwindow_start\u001b[39;49m\u001b[38;5;124;43m\"\u001b[39;49m\u001b[43m)\u001b[49m\u001b[38;5;241;43m.\u001b[39;49m\u001b[43mto_array\u001b[49m())\n",
      "\u001b[0;31mAttributeError\u001b[0m: 'pyarrow.lib.ChunkedArray' object has no attribute 'to_array'"
     ]
    }
   ],
   "source": [
    "pyarrow.compute.pairwise_diff(unchunked_table.column(\"window_start\").to_array())"
   ]
  },
  {
   "cell_type": "code",
   "execution_count": 198,
   "metadata": {},
   "outputs": [
    {
     "data": {
      "text/plain": [
       "True"
      ]
     },
     "execution_count": 198,
     "metadata": {},
     "output_type": "execute_result"
    }
   ],
   "source": [
    "unchunked_table.column(\"ticker\").sort() == sorted_table.column(\"ticker\")"
   ]
  },
  {
   "cell_type": "code",
   "execution_count": 162,
   "metadata": {},
   "outputs": [
    {
     "name": "stdout",
     "output_type": "stream",
     "text": [
      "<class 'pandas.core.frame.DataFrame'>\n",
      "RangeIndex: 1420803 entries, 0 to 1420802\n",
      "Data columns (total 8 columns):\n",
      " #   Column        Non-Null Count    Dtype              \n",
      "---  ------        --------------    -----              \n",
      " 0   ticker        1420803 non-null  object             \n",
      " 1   volume        1420803 non-null  int64              \n",
      " 2   open          1420803 non-null  float64            \n",
      " 3   close         1420803 non-null  float64            \n",
      " 4   high          1420803 non-null  float64            \n",
      " 5   low           1420803 non-null  float64            \n",
      " 6   window_start  1420803 non-null  datetime64[ns, UTC]\n",
      " 7   transactions  1420803 non-null  int64              \n",
      "dtypes: datetime64[ns, UTC](1), float64(4), int64(2), object(1)\n",
      "memory usage: 86.7+ MB\n"
     ]
    },
    {
     "data": {
      "text/html": [
       "<div>\n",
       "<style scoped>\n",
       "    .dataframe tbody tr th:only-of-type {\n",
       "        vertical-align: middle;\n",
       "    }\n",
       "\n",
       "    .dataframe tbody tr th {\n",
       "        vertical-align: top;\n",
       "    }\n",
       "\n",
       "    .dataframe thead th {\n",
       "        text-align: right;\n",
       "    }\n",
       "</style>\n",
       "<table border=\"1\" class=\"dataframe\">\n",
       "  <thead>\n",
       "    <tr style=\"text-align: right;\">\n",
       "      <th></th>\n",
       "      <th>ticker</th>\n",
       "      <th>volume</th>\n",
       "      <th>open</th>\n",
       "      <th>close</th>\n",
       "      <th>high</th>\n",
       "      <th>low</th>\n",
       "      <th>window_start</th>\n",
       "      <th>transactions</th>\n",
       "    </tr>\n",
       "  </thead>\n",
       "  <tbody>\n",
       "    <tr>\n",
       "      <th>0</th>\n",
       "      <td>A</td>\n",
       "      <td>714</td>\n",
       "      <td>101.6537</td>\n",
       "      <td>101.6537</td>\n",
       "      <td>101.6537</td>\n",
       "      <td>101.6537</td>\n",
       "      <td>2020-10-07 13:09:00+00:00</td>\n",
       "      <td>1</td>\n",
       "    </tr>\n",
       "    <tr>\n",
       "      <th>1</th>\n",
       "      <td>A</td>\n",
       "      <td>9178</td>\n",
       "      <td>102.4700</td>\n",
       "      <td>102.4400</td>\n",
       "      <td>102.4700</td>\n",
       "      <td>102.4200</td>\n",
       "      <td>2020-10-07 13:30:00+00:00</td>\n",
       "      <td>16</td>\n",
       "    </tr>\n",
       "    <tr>\n",
       "      <th>2</th>\n",
       "      <td>A</td>\n",
       "      <td>177</td>\n",
       "      <td>102.4900</td>\n",
       "      <td>102.4900</td>\n",
       "      <td>102.4900</td>\n",
       "      <td>102.4900</td>\n",
       "      <td>2020-10-07 13:31:00+00:00</td>\n",
       "      <td>8</td>\n",
       "    </tr>\n",
       "    <tr>\n",
       "      <th>3</th>\n",
       "      <td>A</td>\n",
       "      <td>529</td>\n",
       "      <td>102.9250</td>\n",
       "      <td>102.9800</td>\n",
       "      <td>102.9800</td>\n",
       "      <td>102.9200</td>\n",
       "      <td>2020-10-07 13:32:00+00:00</td>\n",
       "      <td>12</td>\n",
       "    </tr>\n",
       "    <tr>\n",
       "      <th>4</th>\n",
       "      <td>A</td>\n",
       "      <td>3206</td>\n",
       "      <td>102.8800</td>\n",
       "      <td>103.0000</td>\n",
       "      <td>103.0000</td>\n",
       "      <td>102.8400</td>\n",
       "      <td>2020-10-07 13:33:00+00:00</td>\n",
       "      <td>67</td>\n",
       "    </tr>\n",
       "    <tr>\n",
       "      <th>...</th>\n",
       "      <td>...</td>\n",
       "      <td>...</td>\n",
       "      <td>...</td>\n",
       "      <td>...</td>\n",
       "      <td>...</td>\n",
       "      <td>...</td>\n",
       "      <td>...</td>\n",
       "      <td>...</td>\n",
       "    </tr>\n",
       "    <tr>\n",
       "      <th>1420798</th>\n",
       "      <td>ZYXI</td>\n",
       "      <td>4158</td>\n",
       "      <td>19.4400</td>\n",
       "      <td>19.4450</td>\n",
       "      <td>19.4450</td>\n",
       "      <td>19.4300</td>\n",
       "      <td>2020-10-07 19:56:00+00:00</td>\n",
       "      <td>55</td>\n",
       "    </tr>\n",
       "    <tr>\n",
       "      <th>1420799</th>\n",
       "      <td>ZYXI</td>\n",
       "      <td>2192</td>\n",
       "      <td>19.4450</td>\n",
       "      <td>19.4500</td>\n",
       "      <td>19.4500</td>\n",
       "      <td>19.4450</td>\n",
       "      <td>2020-10-07 19:57:00+00:00</td>\n",
       "      <td>48</td>\n",
       "    </tr>\n",
       "    <tr>\n",
       "      <th>1420800</th>\n",
       "      <td>ZYXI</td>\n",
       "      <td>4779</td>\n",
       "      <td>19.4500</td>\n",
       "      <td>19.4200</td>\n",
       "      <td>19.4500</td>\n",
       "      <td>19.4200</td>\n",
       "      <td>2020-10-07 19:58:00+00:00</td>\n",
       "      <td>114</td>\n",
       "    </tr>\n",
       "    <tr>\n",
       "      <th>1420801</th>\n",
       "      <td>ZYXI</td>\n",
       "      <td>8271</td>\n",
       "      <td>19.4196</td>\n",
       "      <td>19.4100</td>\n",
       "      <td>19.4200</td>\n",
       "      <td>19.3800</td>\n",
       "      <td>2020-10-07 19:59:00+00:00</td>\n",
       "      <td>104</td>\n",
       "    </tr>\n",
       "    <tr>\n",
       "      <th>1420802</th>\n",
       "      <td>ZYXI</td>\n",
       "      <td>6232</td>\n",
       "      <td>19.3800</td>\n",
       "      <td>19.3800</td>\n",
       "      <td>19.3800</td>\n",
       "      <td>19.3800</td>\n",
       "      <td>2020-10-07 20:00:00+00:00</td>\n",
       "      <td>12</td>\n",
       "    </tr>\n",
       "  </tbody>\n",
       "</table>\n",
       "<p>1420803 rows × 8 columns</p>\n",
       "</div>"
      ],
      "text/plain": [
       "        ticker  volume      open     close      high       low  \\\n",
       "0            A     714  101.6537  101.6537  101.6537  101.6537   \n",
       "1            A    9178  102.4700  102.4400  102.4700  102.4200   \n",
       "2            A     177  102.4900  102.4900  102.4900  102.4900   \n",
       "3            A     529  102.9250  102.9800  102.9800  102.9200   \n",
       "4            A    3206  102.8800  103.0000  103.0000  102.8400   \n",
       "...        ...     ...       ...       ...       ...       ...   \n",
       "1420798   ZYXI    4158   19.4400   19.4450   19.4450   19.4300   \n",
       "1420799   ZYXI    2192   19.4450   19.4500   19.4500   19.4450   \n",
       "1420800   ZYXI    4779   19.4500   19.4200   19.4500   19.4200   \n",
       "1420801   ZYXI    8271   19.4196   19.4100   19.4200   19.3800   \n",
       "1420802   ZYXI    6232   19.3800   19.3800   19.3800   19.3800   \n",
       "\n",
       "                     window_start  transactions  \n",
       "0       2020-10-07 13:09:00+00:00             1  \n",
       "1       2020-10-07 13:30:00+00:00            16  \n",
       "2       2020-10-07 13:31:00+00:00             8  \n",
       "3       2020-10-07 13:32:00+00:00            12  \n",
       "4       2020-10-07 13:33:00+00:00            67  \n",
       "...                           ...           ...  \n",
       "1420798 2020-10-07 19:56:00+00:00            55  \n",
       "1420799 2020-10-07 19:57:00+00:00            48  \n",
       "1420800 2020-10-07 19:58:00+00:00           114  \n",
       "1420801 2020-10-07 19:59:00+00:00           104  \n",
       "1420802 2020-10-07 20:00:00+00:00            12  \n",
       "\n",
       "[1420803 rows x 8 columns]"
      ]
     },
     "execution_count": 162,
     "metadata": {},
     "output_type": "execute_result"
    }
   ],
   "source": [
    "df = unchunked_table.to_pandas()\n",
    "df.info()\n",
    "df"
   ]
  },
  {
   "cell_type": "code",
   "execution_count": 170,
   "metadata": {},
   "outputs": [
    {
     "data": {
      "text/plain": [
       "RangeIndex(start=0, stop=1420803, step=1)"
      ]
     },
     "execution_count": 170,
     "metadata": {},
     "output_type": "execute_result"
    }
   ],
   "source": [
    "df.reset_index(inplace=True)\n",
    "df.index"
   ]
  },
  {
   "cell_type": "code",
   "execution_count": 179,
   "metadata": {},
   "outputs": [],
   "source": [
    "df1 = df.sort_values(by=[\"ticker\", \"window_start\"])"
   ]
  },
  {
   "cell_type": "code",
   "execution_count": 174,
   "metadata": {},
   "outputs": [],
   "source": [
    "df.index = list(df.index)"
   ]
  },
  {
   "cell_type": "code",
   "execution_count": 175,
   "metadata": {},
   "outputs": [
    {
     "data": {
      "text/plain": [
       "Index([      0,       1,       2,       3,       4,       5,       6,       7,\n",
       "             8,       9,\n",
       "       ...\n",
       "       1420793, 1420794, 1420795, 1420796, 1420797, 1420798, 1420799, 1420800,\n",
       "       1420801, 1420802],\n",
       "      dtype='int64', length=1420803)"
      ]
     },
     "execution_count": 175,
     "metadata": {},
     "output_type": "execute_result"
    }
   ],
   "source": [
    "df.index"
   ]
  },
  {
   "cell_type": "code",
   "execution_count": 180,
   "metadata": {},
   "outputs": [
    {
     "ename": "ValueError",
     "evalue": "Can only compare identically-labeled (both index and columns) DataFrame objects",
     "output_type": "error",
     "traceback": [
      "\u001b[0;31m---------------------------------------------------------------------------\u001b[0m",
      "\u001b[0;31mValueError\u001b[0m                                Traceback (most recent call last)",
      "\u001b[0;32m/var/folders/d5/tb1xcvfn55q_c12yxvb407380000gn/T/ipykernel_96751/3708973808.py\u001b[0m in \u001b[0;36m?\u001b[0;34m()\u001b[0m\n\u001b[0;32m----> 1\u001b[0;31m \u001b[0mdiff_df\u001b[0m \u001b[0;34m=\u001b[0m \u001b[0mdf\u001b[0m\u001b[0;34m.\u001b[0m\u001b[0mcompare\u001b[0m\u001b[0;34m(\u001b[0m\u001b[0mdf1\u001b[0m\u001b[0;34m)\u001b[0m\u001b[0;34m\u001b[0m\u001b[0;34m\u001b[0m\u001b[0m\n\u001b[0m\u001b[1;32m      2\u001b[0m \u001b[0mprint\u001b[0m\u001b[0;34m(\u001b[0m\u001b[0;34mf\"\u001b[0m\u001b[0;34m{\u001b[0m\u001b[0mlen\u001b[0m\u001b[0;34m(\u001b[0m\u001b[0mdiff_df\u001b[0m\u001b[0;34m)\u001b[0m\u001b[0;34m=\u001b[0m\u001b[0;34m}\u001b[0m\u001b[0;34m\"\u001b[0m\u001b[0;34m)\u001b[0m\u001b[0;34m\u001b[0m\u001b[0;34m\u001b[0m\u001b[0m\n\u001b[1;32m      3\u001b[0m \u001b[0mdiff_df\u001b[0m\u001b[0;34m\u001b[0m\u001b[0;34m\u001b[0m\u001b[0m\n",
      "\u001b[0;32m~/Projects/zipline-polygon-bundle/.venv/lib/python3.12/site-packages/pandas/core/frame.py\u001b[0m in \u001b[0;36m?\u001b[0;34m(self, other, align_axis, keep_shape, keep_equal, result_names)\u001b[0m\n\u001b[1;32m   8589\u001b[0m         \u001b[0mkeep_shape\u001b[0m\u001b[0;34m:\u001b[0m \u001b[0mbool\u001b[0m \u001b[0;34m=\u001b[0m \u001b[0;32mFalse\u001b[0m\u001b[0;34m,\u001b[0m\u001b[0;34m\u001b[0m\u001b[0;34m\u001b[0m\u001b[0m\n\u001b[1;32m   8590\u001b[0m         \u001b[0mkeep_equal\u001b[0m\u001b[0;34m:\u001b[0m \u001b[0mbool\u001b[0m \u001b[0;34m=\u001b[0m \u001b[0;32mFalse\u001b[0m\u001b[0;34m,\u001b[0m\u001b[0;34m\u001b[0m\u001b[0;34m\u001b[0m\u001b[0m\n\u001b[1;32m   8591\u001b[0m         \u001b[0mresult_names\u001b[0m\u001b[0;34m:\u001b[0m \u001b[0mSuffixes\u001b[0m \u001b[0;34m=\u001b[0m \u001b[0;34m(\u001b[0m\u001b[0;34m\"self\"\u001b[0m\u001b[0;34m,\u001b[0m \u001b[0;34m\"other\"\u001b[0m\u001b[0;34m)\u001b[0m\u001b[0;34m,\u001b[0m\u001b[0;34m\u001b[0m\u001b[0;34m\u001b[0m\u001b[0m\n\u001b[1;32m   8592\u001b[0m     \u001b[0;34m)\u001b[0m \u001b[0;34m->\u001b[0m \u001b[0mDataFrame\u001b[0m\u001b[0;34m:\u001b[0m\u001b[0;34m\u001b[0m\u001b[0;34m\u001b[0m\u001b[0m\n\u001b[0;32m-> 8593\u001b[0;31m         return super().compare(\n\u001b[0m\u001b[1;32m   8594\u001b[0m             \u001b[0mother\u001b[0m\u001b[0;34m=\u001b[0m\u001b[0mother\u001b[0m\u001b[0;34m,\u001b[0m\u001b[0;34m\u001b[0m\u001b[0;34m\u001b[0m\u001b[0m\n\u001b[1;32m   8595\u001b[0m             \u001b[0malign_axis\u001b[0m\u001b[0;34m=\u001b[0m\u001b[0malign_axis\u001b[0m\u001b[0;34m,\u001b[0m\u001b[0;34m\u001b[0m\u001b[0;34m\u001b[0m\u001b[0m\n\u001b[1;32m   8596\u001b[0m             \u001b[0mkeep_shape\u001b[0m\u001b[0;34m=\u001b[0m\u001b[0mkeep_shape\u001b[0m\u001b[0;34m,\u001b[0m\u001b[0;34m\u001b[0m\u001b[0;34m\u001b[0m\u001b[0m\n",
      "\u001b[0;32m~/Projects/zipline-polygon-bundle/.venv/lib/python3.12/site-packages/pandas/core/generic.py\u001b[0m in \u001b[0;36m?\u001b[0;34m(self, other, align_axis, keep_shape, keep_equal, result_names)\u001b[0m\n\u001b[1;32m  10117\u001b[0m             raise TypeError(\n\u001b[1;32m  10118\u001b[0m                 \u001b[0;34mf\"\u001b[0m\u001b[0;34mcan only compare '\u001b[0m\u001b[0;34m{\u001b[0m\u001b[0mcls_self\u001b[0m\u001b[0;34m}\u001b[0m\u001b[0;34m' (not '\u001b[0m\u001b[0;34m{\u001b[0m\u001b[0mcls_other\u001b[0m\u001b[0;34m}\u001b[0m\u001b[0;34m') with '\u001b[0m\u001b[0;34m{\u001b[0m\u001b[0mcls_self\u001b[0m\u001b[0;34m}\u001b[0m\u001b[0;34m'\u001b[0m\u001b[0;34m\"\u001b[0m\u001b[0;34m\u001b[0m\u001b[0;34m\u001b[0m\u001b[0m\n\u001b[1;32m  10119\u001b[0m             \u001b[0;34m)\u001b[0m\u001b[0;34m\u001b[0m\u001b[0;34m\u001b[0m\u001b[0m\n\u001b[1;32m  10120\u001b[0m \u001b[0;34m\u001b[0m\u001b[0m\n\u001b[0;32m> 10121\u001b[0;31m         \u001b[0mmask\u001b[0m \u001b[0;34m=\u001b[0m \u001b[0;34m~\u001b[0m\u001b[0;34m(\u001b[0m\u001b[0;34m(\u001b[0m\u001b[0mself\u001b[0m \u001b[0;34m==\u001b[0m \u001b[0mother\u001b[0m\u001b[0;34m)\u001b[0m \u001b[0;34m|\u001b[0m \u001b[0;34m(\u001b[0m\u001b[0mself\u001b[0m\u001b[0;34m.\u001b[0m\u001b[0misna\u001b[0m\u001b[0;34m(\u001b[0m\u001b[0;34m)\u001b[0m \u001b[0;34m&\u001b[0m \u001b[0mother\u001b[0m\u001b[0;34m.\u001b[0m\u001b[0misna\u001b[0m\u001b[0;34m(\u001b[0m\u001b[0;34m)\u001b[0m\u001b[0;34m)\u001b[0m\u001b[0;34m)\u001b[0m\u001b[0;34m\u001b[0m\u001b[0;34m\u001b[0m\u001b[0m\n\u001b[0m\u001b[1;32m  10122\u001b[0m         \u001b[0mmask\u001b[0m\u001b[0;34m.\u001b[0m\u001b[0mfillna\u001b[0m\u001b[0;34m(\u001b[0m\u001b[0;32mTrue\u001b[0m\u001b[0;34m,\u001b[0m \u001b[0minplace\u001b[0m\u001b[0;34m=\u001b[0m\u001b[0;32mTrue\u001b[0m\u001b[0;34m)\u001b[0m\u001b[0;34m\u001b[0m\u001b[0;34m\u001b[0m\u001b[0m\n\u001b[1;32m  10123\u001b[0m \u001b[0;34m\u001b[0m\u001b[0m\n\u001b[1;32m  10124\u001b[0m         \u001b[0;32mif\u001b[0m \u001b[0;32mnot\u001b[0m \u001b[0mkeep_equal\u001b[0m\u001b[0;34m:\u001b[0m\u001b[0;34m\u001b[0m\u001b[0;34m\u001b[0m\u001b[0m\n",
      "\u001b[0;32m~/Projects/zipline-polygon-bundle/.venv/lib/python3.12/site-packages/pandas/core/ops/common.py\u001b[0m in \u001b[0;36m?\u001b[0;34m(self, other)\u001b[0m\n\u001b[1;32m     72\u001b[0m                     \u001b[0;32mreturn\u001b[0m \u001b[0mNotImplemented\u001b[0m\u001b[0;34m\u001b[0m\u001b[0;34m\u001b[0m\u001b[0m\n\u001b[1;32m     73\u001b[0m \u001b[0;34m\u001b[0m\u001b[0m\n\u001b[1;32m     74\u001b[0m         \u001b[0mother\u001b[0m \u001b[0;34m=\u001b[0m \u001b[0mitem_from_zerodim\u001b[0m\u001b[0;34m(\u001b[0m\u001b[0mother\u001b[0m\u001b[0;34m)\u001b[0m\u001b[0;34m\u001b[0m\u001b[0;34m\u001b[0m\u001b[0m\n\u001b[1;32m     75\u001b[0m \u001b[0;34m\u001b[0m\u001b[0m\n\u001b[0;32m---> 76\u001b[0;31m         \u001b[0;32mreturn\u001b[0m \u001b[0mmethod\u001b[0m\u001b[0;34m(\u001b[0m\u001b[0mself\u001b[0m\u001b[0;34m,\u001b[0m \u001b[0mother\u001b[0m\u001b[0;34m)\u001b[0m\u001b[0;34m\u001b[0m\u001b[0;34m\u001b[0m\u001b[0m\n\u001b[0m",
      "\u001b[0;32m~/Projects/zipline-polygon-bundle/.venv/lib/python3.12/site-packages/pandas/core/arraylike.py\u001b[0m in \u001b[0;36m?\u001b[0;34m(self, other)\u001b[0m\n\u001b[1;32m     38\u001b[0m     \u001b[0;34m@\u001b[0m\u001b[0munpack_zerodim_and_defer\u001b[0m\u001b[0;34m(\u001b[0m\u001b[0;34m\"__eq__\"\u001b[0m\u001b[0;34m)\u001b[0m\u001b[0;34m\u001b[0m\u001b[0;34m\u001b[0m\u001b[0m\n\u001b[1;32m     39\u001b[0m     \u001b[0;32mdef\u001b[0m \u001b[0m__eq__\u001b[0m\u001b[0;34m(\u001b[0m\u001b[0mself\u001b[0m\u001b[0;34m,\u001b[0m \u001b[0mother\u001b[0m\u001b[0;34m)\u001b[0m\u001b[0;34m:\u001b[0m\u001b[0;34m\u001b[0m\u001b[0;34m\u001b[0m\u001b[0m\n\u001b[0;32m---> 40\u001b[0;31m         \u001b[0;32mreturn\u001b[0m \u001b[0mself\u001b[0m\u001b[0;34m.\u001b[0m\u001b[0m_cmp_method\u001b[0m\u001b[0;34m(\u001b[0m\u001b[0mother\u001b[0m\u001b[0;34m,\u001b[0m \u001b[0moperator\u001b[0m\u001b[0;34m.\u001b[0m\u001b[0meq\u001b[0m\u001b[0;34m)\u001b[0m\u001b[0;34m\u001b[0m\u001b[0;34m\u001b[0m\u001b[0m\n\u001b[0m",
      "\u001b[0;32m~/Projects/zipline-polygon-bundle/.venv/lib/python3.12/site-packages/pandas/core/frame.py\u001b[0m in \u001b[0;36m?\u001b[0;34m(self, other, op)\u001b[0m\n\u001b[1;32m   7894\u001b[0m     \u001b[0;32mdef\u001b[0m \u001b[0m_cmp_method\u001b[0m\u001b[0;34m(\u001b[0m\u001b[0mself\u001b[0m\u001b[0;34m,\u001b[0m \u001b[0mother\u001b[0m\u001b[0;34m,\u001b[0m \u001b[0mop\u001b[0m\u001b[0;34m)\u001b[0m\u001b[0;34m:\u001b[0m\u001b[0;34m\u001b[0m\u001b[0;34m\u001b[0m\u001b[0m\n\u001b[1;32m   7895\u001b[0m         \u001b[0maxis\u001b[0m\u001b[0;34m:\u001b[0m \u001b[0mLiteral\u001b[0m\u001b[0;34m[\u001b[0m\u001b[0;36m1\u001b[0m\u001b[0;34m]\u001b[0m \u001b[0;34m=\u001b[0m \u001b[0;36m1\u001b[0m  \u001b[0;31m# only relevant for Series other case\u001b[0m\u001b[0;34m\u001b[0m\u001b[0;34m\u001b[0m\u001b[0m\n\u001b[1;32m   7896\u001b[0m \u001b[0;34m\u001b[0m\u001b[0m\n\u001b[0;32m-> 7897\u001b[0;31m         \u001b[0mself\u001b[0m\u001b[0;34m,\u001b[0m \u001b[0mother\u001b[0m \u001b[0;34m=\u001b[0m \u001b[0mself\u001b[0m\u001b[0;34m.\u001b[0m\u001b[0m_align_for_op\u001b[0m\u001b[0;34m(\u001b[0m\u001b[0mother\u001b[0m\u001b[0;34m,\u001b[0m \u001b[0maxis\u001b[0m\u001b[0;34m,\u001b[0m \u001b[0mflex\u001b[0m\u001b[0;34m=\u001b[0m\u001b[0;32mFalse\u001b[0m\u001b[0;34m,\u001b[0m \u001b[0mlevel\u001b[0m\u001b[0;34m=\u001b[0m\u001b[0;32mNone\u001b[0m\u001b[0;34m)\u001b[0m\u001b[0;34m\u001b[0m\u001b[0;34m\u001b[0m\u001b[0m\n\u001b[0m\u001b[1;32m   7898\u001b[0m \u001b[0;34m\u001b[0m\u001b[0m\n\u001b[1;32m   7899\u001b[0m         \u001b[0;31m# See GH#4537 for discussion of scalar op behavior\u001b[0m\u001b[0;34m\u001b[0m\u001b[0;34m\u001b[0m\u001b[0m\n\u001b[1;32m   7900\u001b[0m         \u001b[0mnew_data\u001b[0m \u001b[0;34m=\u001b[0m \u001b[0mself\u001b[0m\u001b[0;34m.\u001b[0m\u001b[0m_dispatch_frame_op\u001b[0m\u001b[0;34m(\u001b[0m\u001b[0mother\u001b[0m\u001b[0;34m,\u001b[0m \u001b[0mop\u001b[0m\u001b[0;34m,\u001b[0m \u001b[0maxis\u001b[0m\u001b[0;34m=\u001b[0m\u001b[0maxis\u001b[0m\u001b[0;34m)\u001b[0m\u001b[0;34m\u001b[0m\u001b[0;34m\u001b[0m\u001b[0m\n",
      "\u001b[0;32m~/Projects/zipline-polygon-bundle/.venv/lib/python3.12/site-packages/pandas/core/frame.py\u001b[0m in \u001b[0;36m?\u001b[0;34m(self, other, axis, flex, level)\u001b[0m\n\u001b[1;32m   8192\u001b[0m                     left, right = left.align(\n\u001b[1;32m   8193\u001b[0m                         \u001b[0mright\u001b[0m\u001b[0;34m,\u001b[0m \u001b[0mjoin\u001b[0m\u001b[0;34m=\u001b[0m\u001b[0;34m\"outer\"\u001b[0m\u001b[0;34m,\u001b[0m \u001b[0mlevel\u001b[0m\u001b[0;34m=\u001b[0m\u001b[0mlevel\u001b[0m\u001b[0;34m,\u001b[0m \u001b[0mcopy\u001b[0m\u001b[0;34m=\u001b[0m\u001b[0;32mFalse\u001b[0m\u001b[0;34m\u001b[0m\u001b[0;34m\u001b[0m\u001b[0m\n\u001b[1;32m   8194\u001b[0m                     \u001b[0;34m)\u001b[0m\u001b[0;34m\u001b[0m\u001b[0;34m\u001b[0m\u001b[0m\n\u001b[1;32m   8195\u001b[0m                 \u001b[0;32melse\u001b[0m\u001b[0;34m:\u001b[0m\u001b[0;34m\u001b[0m\u001b[0;34m\u001b[0m\u001b[0m\n\u001b[0;32m-> 8196\u001b[0;31m                     raise ValueError(\n\u001b[0m\u001b[1;32m   8197\u001b[0m                         \u001b[0;34m\"Can only compare identically-labeled (both index and columns) \"\u001b[0m\u001b[0;34m\u001b[0m\u001b[0;34m\u001b[0m\u001b[0m\n\u001b[1;32m   8198\u001b[0m                         \u001b[0;34m\"DataFrame objects\"\u001b[0m\u001b[0;34m\u001b[0m\u001b[0;34m\u001b[0m\u001b[0m\n\u001b[1;32m   8199\u001b[0m                     \u001b[0;34m)\u001b[0m\u001b[0;34m\u001b[0m\u001b[0;34m\u001b[0m\u001b[0m\n",
      "\u001b[0;31mValueError\u001b[0m: Can only compare identically-labeled (both index and columns) DataFrame objects"
     ]
    }
   ],
   "source": [
    "diff_df = df.compare(df1)\n",
    "print(f\"{len(diff_df)=}\")\n",
    "diff_df"
   ]
  },
  {
   "cell_type": "code",
   "execution_count": 181,
   "metadata": {},
   "outputs": [
    {
     "data": {
      "text/plain": [
       "Index([      0,       1,       2,       3,       4,       5,       6,       7,\n",
       "             8,       9,\n",
       "       ...\n",
       "       1420793, 1420794, 1420795, 1420796, 1420797, 1420798, 1420799, 1420800,\n",
       "       1420801, 1420802],\n",
       "      dtype='int64', length=1420803)"
      ]
     },
     "execution_count": 181,
     "metadata": {},
     "output_type": "execute_result"
    }
   ],
   "source": [
    "df.index"
   ]
  },
  {
   "cell_type": "code",
   "execution_count": 182,
   "metadata": {},
   "outputs": [
    {
     "data": {
      "text/plain": [
       "Index([      0,       1,       2,       3,       4,       5,       6,       7,\n",
       "             8,       9,\n",
       "       ...\n",
       "       1420793, 1420794, 1420795, 1420796, 1420797, 1420798, 1420799, 1420800,\n",
       "       1420801, 1420802],\n",
       "      dtype='int64', length=1420803)"
      ]
     },
     "execution_count": 182,
     "metadata": {},
     "output_type": "execute_result"
    }
   ],
   "source": [
    "df1.index"
   ]
  },
  {
   "cell_type": "code",
   "execution_count": 184,
   "metadata": {},
   "outputs": [
    {
     "ename": "AttributeError",
     "evalue": "'Index' object has no attribute 'compare'",
     "output_type": "error",
     "traceback": [
      "\u001b[0;31m---------------------------------------------------------------------------\u001b[0m",
      "\u001b[0;31mAttributeError\u001b[0m                            Traceback (most recent call last)",
      "Cell \u001b[0;32mIn[184], line 1\u001b[0m\n\u001b[0;32m----> 1\u001b[0m \u001b[43mdf\u001b[49m\u001b[38;5;241;43m.\u001b[39;49m\u001b[43mindex\u001b[49m\u001b[38;5;241;43m.\u001b[39;49m\u001b[43mcompare\u001b[49m(df1\u001b[38;5;241m.\u001b[39mindex)\n",
      "\u001b[0;31mAttributeError\u001b[0m: 'Index' object has no attribute 'compare'"
     ]
    }
   ],
   "source": [
    "df.index.compare(df1.index)"
   ]
  },
  {
   "cell_type": "code",
   "execution_count": 137,
   "metadata": {},
   "outputs": [
    {
     "data": {
      "text/plain": [
       "0         2020-10-07 13:09:00+00:00\n",
       "1         2020-10-07 13:30:00+00:00\n",
       "2         2020-10-07 13:31:00+00:00\n",
       "3         2020-10-07 13:32:00+00:00\n",
       "4         2020-10-07 13:33:00+00:00\n",
       "                     ...           \n",
       "1420798   2020-10-07 19:56:00+00:00\n",
       "1420799   2020-10-07 19:57:00+00:00\n",
       "1420800   2020-10-07 19:58:00+00:00\n",
       "1420801   2020-10-07 19:59:00+00:00\n",
       "1420802   2020-10-07 20:00:00+00:00\n",
       "Name: window_start, Length: 1420803, dtype: datetime64[ns, UTC]"
      ]
     },
     "execution_count": 137,
     "metadata": {},
     "output_type": "execute_result"
    }
   ],
   "source": [
    "df['window_start']"
   ]
  },
  {
   "cell_type": "code",
   "execution_count": 138,
   "metadata": {},
   "outputs": [
    {
     "data": {
      "text/plain": [
       "0         2020-10-07 13:09:00+00:00\n",
       "1         2020-10-07 13:30:00+00:00\n",
       "2         2020-10-07 13:31:00+00:00\n",
       "3         2020-10-07 13:32:00+00:00\n",
       "4         2020-10-07 13:33:00+00:00\n",
       "                     ...           \n",
       "1420798   2020-10-07 19:56:00+00:00\n",
       "1420799   2020-10-07 19:57:00+00:00\n",
       "1420800   2020-10-07 19:58:00+00:00\n",
       "1420801   2020-10-07 19:59:00+00:00\n",
       "1420802   2020-10-07 20:00:00+00:00\n",
       "Name: window_start, Length: 1420803, dtype: datetime64[ns, UTC]"
      ]
     },
     "execution_count": 138,
     "metadata": {},
     "output_type": "execute_result"
    }
   ],
   "source": [
    "df1['window_start']"
   ]
  },
  {
   "cell_type": "code",
   "execution_count": 183,
   "metadata": {},
   "outputs": [
    {
     "ename": "ValueError",
     "evalue": "Can only compare identically-labeled Series objects",
     "output_type": "error",
     "traceback": [
      "\u001b[0;31m---------------------------------------------------------------------------\u001b[0m",
      "\u001b[0;31mValueError\u001b[0m                                Traceback (most recent call last)",
      "Cell \u001b[0;32mIn[183], line 1\u001b[0m\n\u001b[0;32m----> 1\u001b[0m \u001b[43mdf\u001b[49m\u001b[43m[\u001b[49m\u001b[38;5;124;43m'\u001b[39;49m\u001b[38;5;124;43mwindow_start\u001b[39;49m\u001b[38;5;124;43m'\u001b[39;49m\u001b[43m]\u001b[49m\u001b[38;5;241;43m.\u001b[39;49m\u001b[43mcompare\u001b[49m\u001b[43m(\u001b[49m\u001b[43mdf1\u001b[49m\u001b[43m[\u001b[49m\u001b[38;5;124;43m'\u001b[39;49m\u001b[38;5;124;43mwindow_start\u001b[39;49m\u001b[38;5;124;43m'\u001b[39;49m\u001b[43m]\u001b[49m\u001b[43m)\u001b[49m\n",
      "File \u001b[0;32m~/Projects/zipline-polygon-bundle/.venv/lib/python3.12/site-packages/pandas/core/series.py:3364\u001b[0m, in \u001b[0;36mSeries.compare\u001b[0;34m(self, other, align_axis, keep_shape, keep_equal, result_names)\u001b[0m\n\u001b[1;32m   3290\u001b[0m \u001b[38;5;129m@doc\u001b[39m(\n\u001b[1;32m   3291\u001b[0m     _shared_docs[\u001b[38;5;124m\"\u001b[39m\u001b[38;5;124mcompare\u001b[39m\u001b[38;5;124m\"\u001b[39m],\n\u001b[1;32m   3292\u001b[0m     dedent(\n\u001b[0;32m   (...)\u001b[0m\n\u001b[1;32m   3362\u001b[0m     result_names: Suffixes \u001b[38;5;241m=\u001b[39m (\u001b[38;5;124m\"\u001b[39m\u001b[38;5;124mself\u001b[39m\u001b[38;5;124m\"\u001b[39m, \u001b[38;5;124m\"\u001b[39m\u001b[38;5;124mother\u001b[39m\u001b[38;5;124m\"\u001b[39m),\n\u001b[1;32m   3363\u001b[0m ) \u001b[38;5;241m-\u001b[39m\u001b[38;5;241m>\u001b[39m DataFrame \u001b[38;5;241m|\u001b[39m Series:\n\u001b[0;32m-> 3364\u001b[0m     \u001b[38;5;28;01mreturn\u001b[39;00m \u001b[38;5;28;43msuper\u001b[39;49m\u001b[43m(\u001b[49m\u001b[43m)\u001b[49m\u001b[38;5;241;43m.\u001b[39;49m\u001b[43mcompare\u001b[49m\u001b[43m(\u001b[49m\n\u001b[1;32m   3365\u001b[0m \u001b[43m        \u001b[49m\u001b[43mother\u001b[49m\u001b[38;5;241;43m=\u001b[39;49m\u001b[43mother\u001b[49m\u001b[43m,\u001b[49m\n\u001b[1;32m   3366\u001b[0m \u001b[43m        \u001b[49m\u001b[43malign_axis\u001b[49m\u001b[38;5;241;43m=\u001b[39;49m\u001b[43malign_axis\u001b[49m\u001b[43m,\u001b[49m\n\u001b[1;32m   3367\u001b[0m \u001b[43m        \u001b[49m\u001b[43mkeep_shape\u001b[49m\u001b[38;5;241;43m=\u001b[39;49m\u001b[43mkeep_shape\u001b[49m\u001b[43m,\u001b[49m\n\u001b[1;32m   3368\u001b[0m \u001b[43m        \u001b[49m\u001b[43mkeep_equal\u001b[49m\u001b[38;5;241;43m=\u001b[39;49m\u001b[43mkeep_equal\u001b[49m\u001b[43m,\u001b[49m\n\u001b[1;32m   3369\u001b[0m \u001b[43m        \u001b[49m\u001b[43mresult_names\u001b[49m\u001b[38;5;241;43m=\u001b[39;49m\u001b[43mresult_names\u001b[49m\u001b[43m,\u001b[49m\n\u001b[1;32m   3370\u001b[0m \u001b[43m    \u001b[49m\u001b[43m)\u001b[49m\n",
      "File \u001b[0;32m~/Projects/zipline-polygon-bundle/.venv/lib/python3.12/site-packages/pandas/core/generic.py:10121\u001b[0m, in \u001b[0;36mNDFrame.compare\u001b[0;34m(self, other, align_axis, keep_shape, keep_equal, result_names)\u001b[0m\n\u001b[1;32m  10116\u001b[0m     cls_self, cls_other \u001b[38;5;241m=\u001b[39m \u001b[38;5;28mtype\u001b[39m(\u001b[38;5;28mself\u001b[39m)\u001b[38;5;241m.\u001b[39m\u001b[38;5;18m__name__\u001b[39m, \u001b[38;5;28mtype\u001b[39m(other)\u001b[38;5;241m.\u001b[39m\u001b[38;5;18m__name__\u001b[39m\n\u001b[1;32m  10117\u001b[0m     \u001b[38;5;28;01mraise\u001b[39;00m \u001b[38;5;167;01mTypeError\u001b[39;00m(\n\u001b[1;32m  10118\u001b[0m         \u001b[38;5;124mf\u001b[39m\u001b[38;5;124m\"\u001b[39m\u001b[38;5;124mcan only compare \u001b[39m\u001b[38;5;124m'\u001b[39m\u001b[38;5;132;01m{\u001b[39;00mcls_self\u001b[38;5;132;01m}\u001b[39;00m\u001b[38;5;124m'\u001b[39m\u001b[38;5;124m (not \u001b[39m\u001b[38;5;124m'\u001b[39m\u001b[38;5;132;01m{\u001b[39;00mcls_other\u001b[38;5;132;01m}\u001b[39;00m\u001b[38;5;124m'\u001b[39m\u001b[38;5;124m) with \u001b[39m\u001b[38;5;124m'\u001b[39m\u001b[38;5;132;01m{\u001b[39;00mcls_self\u001b[38;5;132;01m}\u001b[39;00m\u001b[38;5;124m'\u001b[39m\u001b[38;5;124m\"\u001b[39m\n\u001b[1;32m  10119\u001b[0m     )\n\u001b[0;32m> 10121\u001b[0m mask \u001b[38;5;241m=\u001b[39m \u001b[38;5;241m~\u001b[39m((\u001b[38;5;28;43mself\u001b[39;49m\u001b[43m \u001b[49m\u001b[38;5;241;43m==\u001b[39;49m\u001b[43m \u001b[49m\u001b[43mother\u001b[49m) \u001b[38;5;241m|\u001b[39m (\u001b[38;5;28mself\u001b[39m\u001b[38;5;241m.\u001b[39misna() \u001b[38;5;241m&\u001b[39m other\u001b[38;5;241m.\u001b[39misna()))\n\u001b[1;32m  10122\u001b[0m mask\u001b[38;5;241m.\u001b[39mfillna(\u001b[38;5;28;01mTrue\u001b[39;00m, inplace\u001b[38;5;241m=\u001b[39m\u001b[38;5;28;01mTrue\u001b[39;00m)\n\u001b[1;32m  10124\u001b[0m \u001b[38;5;28;01mif\u001b[39;00m \u001b[38;5;129;01mnot\u001b[39;00m keep_equal:\n",
      "File \u001b[0;32m~/Projects/zipline-polygon-bundle/.venv/lib/python3.12/site-packages/pandas/core/ops/common.py:76\u001b[0m, in \u001b[0;36m_unpack_zerodim_and_defer.<locals>.new_method\u001b[0;34m(self, other)\u001b[0m\n\u001b[1;32m     72\u001b[0m             \u001b[38;5;28;01mreturn\u001b[39;00m \u001b[38;5;28mNotImplemented\u001b[39m\n\u001b[1;32m     74\u001b[0m other \u001b[38;5;241m=\u001b[39m item_from_zerodim(other)\n\u001b[0;32m---> 76\u001b[0m \u001b[38;5;28;01mreturn\u001b[39;00m \u001b[43mmethod\u001b[49m\u001b[43m(\u001b[49m\u001b[38;5;28;43mself\u001b[39;49m\u001b[43m,\u001b[49m\u001b[43m \u001b[49m\u001b[43mother\u001b[49m\u001b[43m)\u001b[49m\n",
      "File \u001b[0;32m~/Projects/zipline-polygon-bundle/.venv/lib/python3.12/site-packages/pandas/core/arraylike.py:40\u001b[0m, in \u001b[0;36mOpsMixin.__eq__\u001b[0;34m(self, other)\u001b[0m\n\u001b[1;32m     38\u001b[0m \u001b[38;5;129m@unpack_zerodim_and_defer\u001b[39m(\u001b[38;5;124m\"\u001b[39m\u001b[38;5;124m__eq__\u001b[39m\u001b[38;5;124m\"\u001b[39m)\n\u001b[1;32m     39\u001b[0m \u001b[38;5;28;01mdef\u001b[39;00m \u001b[38;5;21m__eq__\u001b[39m(\u001b[38;5;28mself\u001b[39m, other):\n\u001b[0;32m---> 40\u001b[0m     \u001b[38;5;28;01mreturn\u001b[39;00m \u001b[38;5;28;43mself\u001b[39;49m\u001b[38;5;241;43m.\u001b[39;49m\u001b[43m_cmp_method\u001b[49m\u001b[43m(\u001b[49m\u001b[43mother\u001b[49m\u001b[43m,\u001b[49m\u001b[43m \u001b[49m\u001b[43moperator\u001b[49m\u001b[38;5;241;43m.\u001b[39;49m\u001b[43meq\u001b[49m\u001b[43m)\u001b[49m\n",
      "File \u001b[0;32m~/Projects/zipline-polygon-bundle/.venv/lib/python3.12/site-packages/pandas/core/series.py:6114\u001b[0m, in \u001b[0;36mSeries._cmp_method\u001b[0;34m(self, other, op)\u001b[0m\n\u001b[1;32m   6111\u001b[0m res_name \u001b[38;5;241m=\u001b[39m ops\u001b[38;5;241m.\u001b[39mget_op_result_name(\u001b[38;5;28mself\u001b[39m, other)\n\u001b[1;32m   6113\u001b[0m \u001b[38;5;28;01mif\u001b[39;00m \u001b[38;5;28misinstance\u001b[39m(other, Series) \u001b[38;5;129;01mand\u001b[39;00m \u001b[38;5;129;01mnot\u001b[39;00m \u001b[38;5;28mself\u001b[39m\u001b[38;5;241m.\u001b[39m_indexed_same(other):\n\u001b[0;32m-> 6114\u001b[0m     \u001b[38;5;28;01mraise\u001b[39;00m \u001b[38;5;167;01mValueError\u001b[39;00m(\u001b[38;5;124m\"\u001b[39m\u001b[38;5;124mCan only compare identically-labeled Series objects\u001b[39m\u001b[38;5;124m\"\u001b[39m)\n\u001b[1;32m   6116\u001b[0m lvalues \u001b[38;5;241m=\u001b[39m \u001b[38;5;28mself\u001b[39m\u001b[38;5;241m.\u001b[39m_values\n\u001b[1;32m   6117\u001b[0m rvalues \u001b[38;5;241m=\u001b[39m extract_array(other, extract_numpy\u001b[38;5;241m=\u001b[39m\u001b[38;5;28;01mTrue\u001b[39;00m, extract_range\u001b[38;5;241m=\u001b[39m\u001b[38;5;28;01mTrue\u001b[39;00m)\n",
      "\u001b[0;31mValueError\u001b[0m: Can only compare identically-labeled Series objects"
     ]
    }
   ],
   "source": [
    "df['window_start'].compare(df1['window_start'])"
   ]
  },
  {
   "cell_type": "code",
   "execution_count": 186,
   "metadata": {},
   "outputs": [
    {
     "data": {
      "text/plain": [
       "0             A\n",
       "1             A\n",
       "2             A\n",
       "3             A\n",
       "4             A\n",
       "           ... \n",
       "1420798    ZYXI\n",
       "1420799    ZYXI\n",
       "1420800    ZYXI\n",
       "1420801    ZYXI\n",
       "1420802    ZYXI\n",
       "Name: ticker, Length: 1420803, dtype: object"
      ]
     },
     "execution_count": 186,
     "metadata": {},
     "output_type": "execute_result"
    }
   ],
   "source": [
    "df['ticker']"
   ]
  },
  {
   "cell_type": "code",
   "execution_count": 187,
   "metadata": {},
   "outputs": [
    {
     "data": {
      "text/plain": [
       "0             A\n",
       "1             A\n",
       "2             A\n",
       "3             A\n",
       "4             A\n",
       "           ... \n",
       "1420798    ZYXI\n",
       "1420799    ZYXI\n",
       "1420800    ZYXI\n",
       "1420801    ZYXI\n",
       "1420802    ZYXI\n",
       "Name: ticker, Length: 1420803, dtype: object"
      ]
     },
     "execution_count": 187,
     "metadata": {},
     "output_type": "execute_result"
    }
   ],
   "source": [
    "df1['ticker']"
   ]
  },
  {
   "cell_type": "code",
   "execution_count": 188,
   "metadata": {},
   "outputs": [
    {
     "data": {
      "text/html": [
       "<div>\n",
       "<style scoped>\n",
       "    .dataframe tbody tr th:only-of-type {\n",
       "        vertical-align: middle;\n",
       "    }\n",
       "\n",
       "    .dataframe tbody tr th {\n",
       "        vertical-align: top;\n",
       "    }\n",
       "\n",
       "    .dataframe thead th {\n",
       "        text-align: right;\n",
       "    }\n",
       "</style>\n",
       "<table border=\"1\" class=\"dataframe\">\n",
       "  <thead>\n",
       "    <tr style=\"text-align: right;\">\n",
       "      <th></th>\n",
       "      <th>self</th>\n",
       "      <th>other</th>\n",
       "    </tr>\n",
       "  </thead>\n",
       "  <tbody>\n",
       "  </tbody>\n",
       "</table>\n",
       "</div>"
      ],
      "text/plain": [
       "Empty DataFrame\n",
       "Columns: [self, other]\n",
       "Index: []"
      ]
     },
     "execution_count": 188,
     "metadata": {},
     "output_type": "execute_result"
    }
   ],
   "source": [
    "df1['ticker'].compare(df1['ticker'])"
   ]
  },
  {
   "cell_type": "code",
   "execution_count": 190,
   "metadata": {},
   "outputs": [
    {
     "data": {
      "text/plain": [
       "True"
      ]
     },
     "execution_count": 190,
     "metadata": {},
     "output_type": "execute_result"
    }
   ],
   "source": [
    "df['ticker'].equals(df['ticker'])"
   ]
  },
  {
   "cell_type": "code",
   "execution_count": 173,
   "metadata": {},
   "outputs": [
    {
     "name": "stdout",
     "output_type": "stream",
     "text": [
      "<class 'pandas.core.frame.DataFrame'>\n",
      "RangeIndex: 1420803 entries, 0 to 1420802\n",
      "Data columns (total 9 columns):\n",
      " #   Column        Non-Null Count    Dtype              \n",
      "---  ------        --------------    -----              \n",
      " 0   index         1420803 non-null  int64              \n",
      " 1   ticker        1420803 non-null  object             \n",
      " 2   volume        1420803 non-null  int64              \n",
      " 3   open          1420803 non-null  float64            \n",
      " 4   close         1420803 non-null  float64            \n",
      " 5   high          1420803 non-null  float64            \n",
      " 6   low           1420803 non-null  float64            \n",
      " 7   window_start  1420803 non-null  datetime64[ns, UTC]\n",
      " 8   transactions  1420803 non-null  int64              \n",
      "dtypes: datetime64[ns, UTC](1), float64(4), int64(3), object(1)\n",
      "memory usage: 97.6+ MB\n"
     ]
    },
    {
     "data": {
      "text/html": [
       "<div>\n",
       "<style scoped>\n",
       "    .dataframe tbody tr th:only-of-type {\n",
       "        vertical-align: middle;\n",
       "    }\n",
       "\n",
       "    .dataframe tbody tr th {\n",
       "        vertical-align: top;\n",
       "    }\n",
       "\n",
       "    .dataframe thead th {\n",
       "        text-align: right;\n",
       "    }\n",
       "</style>\n",
       "<table border=\"1\" class=\"dataframe\">\n",
       "  <thead>\n",
       "    <tr style=\"text-align: right;\">\n",
       "      <th></th>\n",
       "      <th>index</th>\n",
       "      <th>ticker</th>\n",
       "      <th>volume</th>\n",
       "      <th>open</th>\n",
       "      <th>close</th>\n",
       "      <th>high</th>\n",
       "      <th>low</th>\n",
       "      <th>window_start</th>\n",
       "      <th>transactions</th>\n",
       "    </tr>\n",
       "  </thead>\n",
       "  <tbody>\n",
       "    <tr>\n",
       "      <th>0</th>\n",
       "      <td>0</td>\n",
       "      <td>A</td>\n",
       "      <td>714</td>\n",
       "      <td>101.6537</td>\n",
       "      <td>101.6537</td>\n",
       "      <td>101.6537</td>\n",
       "      <td>101.6537</td>\n",
       "      <td>2020-10-07 13:09:00+00:00</td>\n",
       "      <td>1</td>\n",
       "    </tr>\n",
       "    <tr>\n",
       "      <th>1</th>\n",
       "      <td>1</td>\n",
       "      <td>A</td>\n",
       "      <td>9178</td>\n",
       "      <td>102.4700</td>\n",
       "      <td>102.4400</td>\n",
       "      <td>102.4700</td>\n",
       "      <td>102.4200</td>\n",
       "      <td>2020-10-07 13:30:00+00:00</td>\n",
       "      <td>16</td>\n",
       "    </tr>\n",
       "    <tr>\n",
       "      <th>2</th>\n",
       "      <td>2</td>\n",
       "      <td>A</td>\n",
       "      <td>177</td>\n",
       "      <td>102.4900</td>\n",
       "      <td>102.4900</td>\n",
       "      <td>102.4900</td>\n",
       "      <td>102.4900</td>\n",
       "      <td>2020-10-07 13:31:00+00:00</td>\n",
       "      <td>8</td>\n",
       "    </tr>\n",
       "    <tr>\n",
       "      <th>3</th>\n",
       "      <td>3</td>\n",
       "      <td>A</td>\n",
       "      <td>529</td>\n",
       "      <td>102.9250</td>\n",
       "      <td>102.9800</td>\n",
       "      <td>102.9800</td>\n",
       "      <td>102.9200</td>\n",
       "      <td>2020-10-07 13:32:00+00:00</td>\n",
       "      <td>12</td>\n",
       "    </tr>\n",
       "    <tr>\n",
       "      <th>4</th>\n",
       "      <td>4</td>\n",
       "      <td>A</td>\n",
       "      <td>3206</td>\n",
       "      <td>102.8800</td>\n",
       "      <td>103.0000</td>\n",
       "      <td>103.0000</td>\n",
       "      <td>102.8400</td>\n",
       "      <td>2020-10-07 13:33:00+00:00</td>\n",
       "      <td>67</td>\n",
       "    </tr>\n",
       "    <tr>\n",
       "      <th>...</th>\n",
       "      <td>...</td>\n",
       "      <td>...</td>\n",
       "      <td>...</td>\n",
       "      <td>...</td>\n",
       "      <td>...</td>\n",
       "      <td>...</td>\n",
       "      <td>...</td>\n",
       "      <td>...</td>\n",
       "      <td>...</td>\n",
       "    </tr>\n",
       "    <tr>\n",
       "      <th>1420798</th>\n",
       "      <td>1420798</td>\n",
       "      <td>ZYXI</td>\n",
       "      <td>4158</td>\n",
       "      <td>19.4400</td>\n",
       "      <td>19.4450</td>\n",
       "      <td>19.4450</td>\n",
       "      <td>19.4300</td>\n",
       "      <td>2020-10-07 19:56:00+00:00</td>\n",
       "      <td>55</td>\n",
       "    </tr>\n",
       "    <tr>\n",
       "      <th>1420799</th>\n",
       "      <td>1420799</td>\n",
       "      <td>ZYXI</td>\n",
       "      <td>2192</td>\n",
       "      <td>19.4450</td>\n",
       "      <td>19.4500</td>\n",
       "      <td>19.4500</td>\n",
       "      <td>19.4450</td>\n",
       "      <td>2020-10-07 19:57:00+00:00</td>\n",
       "      <td>48</td>\n",
       "    </tr>\n",
       "    <tr>\n",
       "      <th>1420800</th>\n",
       "      <td>1420800</td>\n",
       "      <td>ZYXI</td>\n",
       "      <td>4779</td>\n",
       "      <td>19.4500</td>\n",
       "      <td>19.4200</td>\n",
       "      <td>19.4500</td>\n",
       "      <td>19.4200</td>\n",
       "      <td>2020-10-07 19:58:00+00:00</td>\n",
       "      <td>114</td>\n",
       "    </tr>\n",
       "    <tr>\n",
       "      <th>1420801</th>\n",
       "      <td>1420801</td>\n",
       "      <td>ZYXI</td>\n",
       "      <td>8271</td>\n",
       "      <td>19.4196</td>\n",
       "      <td>19.4100</td>\n",
       "      <td>19.4200</td>\n",
       "      <td>19.3800</td>\n",
       "      <td>2020-10-07 19:59:00+00:00</td>\n",
       "      <td>104</td>\n",
       "    </tr>\n",
       "    <tr>\n",
       "      <th>1420802</th>\n",
       "      <td>1420802</td>\n",
       "      <td>ZYXI</td>\n",
       "      <td>6232</td>\n",
       "      <td>19.3800</td>\n",
       "      <td>19.3800</td>\n",
       "      <td>19.3800</td>\n",
       "      <td>19.3800</td>\n",
       "      <td>2020-10-07 20:00:00+00:00</td>\n",
       "      <td>12</td>\n",
       "    </tr>\n",
       "  </tbody>\n",
       "</table>\n",
       "<p>1420803 rows × 9 columns</p>\n",
       "</div>"
      ],
      "text/plain": [
       "           index ticker  volume      open     close      high       low  \\\n",
       "0              0      A     714  101.6537  101.6537  101.6537  101.6537   \n",
       "1              1      A    9178  102.4700  102.4400  102.4700  102.4200   \n",
       "2              2      A     177  102.4900  102.4900  102.4900  102.4900   \n",
       "3              3      A     529  102.9250  102.9800  102.9800  102.9200   \n",
       "4              4      A    3206  102.8800  103.0000  103.0000  102.8400   \n",
       "...          ...    ...     ...       ...       ...       ...       ...   \n",
       "1420798  1420798   ZYXI    4158   19.4400   19.4450   19.4450   19.4300   \n",
       "1420799  1420799   ZYXI    2192   19.4450   19.4500   19.4500   19.4450   \n",
       "1420800  1420800   ZYXI    4779   19.4500   19.4200   19.4500   19.4200   \n",
       "1420801  1420801   ZYXI    8271   19.4196   19.4100   19.4200   19.3800   \n",
       "1420802  1420802   ZYXI    6232   19.3800   19.3800   19.3800   19.3800   \n",
       "\n",
       "                     window_start  transactions  \n",
       "0       2020-10-07 13:09:00+00:00             1  \n",
       "1       2020-10-07 13:30:00+00:00            16  \n",
       "2       2020-10-07 13:31:00+00:00             8  \n",
       "3       2020-10-07 13:32:00+00:00            12  \n",
       "4       2020-10-07 13:33:00+00:00            67  \n",
       "...                           ...           ...  \n",
       "1420798 2020-10-07 19:56:00+00:00            55  \n",
       "1420799 2020-10-07 19:57:00+00:00            48  \n",
       "1420800 2020-10-07 19:58:00+00:00           114  \n",
       "1420801 2020-10-07 19:59:00+00:00           104  \n",
       "1420802 2020-10-07 20:00:00+00:00            12  \n",
       "\n",
       "[1420803 rows x 9 columns]"
      ]
     },
     "execution_count": 173,
     "metadata": {},
     "output_type": "execute_result"
    }
   ],
   "source": [
    "df.info()\n",
    "df"
   ]
  },
  {
   "cell_type": "code",
   "execution_count": 141,
   "metadata": {},
   "outputs": [
    {
     "name": "stdout",
     "output_type": "stream",
     "text": [
      "<class 'pandas.core.frame.DataFrame'>\n",
      "Index: 1420803 entries, 0 to 1420802\n",
      "Data columns (total 8 columns):\n",
      " #   Column        Non-Null Count    Dtype              \n",
      "---  ------        --------------    -----              \n",
      " 0   ticker        1420803 non-null  object             \n",
      " 1   volume        1420803 non-null  int64              \n",
      " 2   open          1420803 non-null  float64            \n",
      " 3   close         1420803 non-null  float64            \n",
      " 4   high          1420803 non-null  float64            \n",
      " 5   low           1420803 non-null  float64            \n",
      " 6   window_start  1420803 non-null  datetime64[ns, UTC]\n",
      " 7   transactions  1420803 non-null  int64              \n",
      "dtypes: datetime64[ns, UTC](1), float64(4), int64(2), object(1)\n",
      "memory usage: 97.6+ MB\n"
     ]
    },
    {
     "data": {
      "text/html": [
       "<div>\n",
       "<style scoped>\n",
       "    .dataframe tbody tr th:only-of-type {\n",
       "        vertical-align: middle;\n",
       "    }\n",
       "\n",
       "    .dataframe tbody tr th {\n",
       "        vertical-align: top;\n",
       "    }\n",
       "\n",
       "    .dataframe thead th {\n",
       "        text-align: right;\n",
       "    }\n",
       "</style>\n",
       "<table border=\"1\" class=\"dataframe\">\n",
       "  <thead>\n",
       "    <tr style=\"text-align: right;\">\n",
       "      <th></th>\n",
       "      <th>ticker</th>\n",
       "      <th>volume</th>\n",
       "      <th>open</th>\n",
       "      <th>close</th>\n",
       "      <th>high</th>\n",
       "      <th>low</th>\n",
       "      <th>window_start</th>\n",
       "      <th>transactions</th>\n",
       "    </tr>\n",
       "  </thead>\n",
       "  <tbody>\n",
       "    <tr>\n",
       "      <th>0</th>\n",
       "      <td>A</td>\n",
       "      <td>714</td>\n",
       "      <td>101.6537</td>\n",
       "      <td>101.6537</td>\n",
       "      <td>101.6537</td>\n",
       "      <td>101.6537</td>\n",
       "      <td>2020-10-07 13:09:00+00:00</td>\n",
       "      <td>1</td>\n",
       "    </tr>\n",
       "    <tr>\n",
       "      <th>1</th>\n",
       "      <td>A</td>\n",
       "      <td>9178</td>\n",
       "      <td>102.4700</td>\n",
       "      <td>102.4400</td>\n",
       "      <td>102.4700</td>\n",
       "      <td>102.4200</td>\n",
       "      <td>2020-10-07 13:30:00+00:00</td>\n",
       "      <td>16</td>\n",
       "    </tr>\n",
       "    <tr>\n",
       "      <th>2</th>\n",
       "      <td>A</td>\n",
       "      <td>177</td>\n",
       "      <td>102.4900</td>\n",
       "      <td>102.4900</td>\n",
       "      <td>102.4900</td>\n",
       "      <td>102.4900</td>\n",
       "      <td>2020-10-07 13:31:00+00:00</td>\n",
       "      <td>8</td>\n",
       "    </tr>\n",
       "    <tr>\n",
       "      <th>3</th>\n",
       "      <td>A</td>\n",
       "      <td>529</td>\n",
       "      <td>102.9250</td>\n",
       "      <td>102.9800</td>\n",
       "      <td>102.9800</td>\n",
       "      <td>102.9200</td>\n",
       "      <td>2020-10-07 13:32:00+00:00</td>\n",
       "      <td>12</td>\n",
       "    </tr>\n",
       "    <tr>\n",
       "      <th>4</th>\n",
       "      <td>A</td>\n",
       "      <td>3206</td>\n",
       "      <td>102.8800</td>\n",
       "      <td>103.0000</td>\n",
       "      <td>103.0000</td>\n",
       "      <td>102.8400</td>\n",
       "      <td>2020-10-07 13:33:00+00:00</td>\n",
       "      <td>67</td>\n",
       "    </tr>\n",
       "    <tr>\n",
       "      <th>...</th>\n",
       "      <td>...</td>\n",
       "      <td>...</td>\n",
       "      <td>...</td>\n",
       "      <td>...</td>\n",
       "      <td>...</td>\n",
       "      <td>...</td>\n",
       "      <td>...</td>\n",
       "      <td>...</td>\n",
       "    </tr>\n",
       "    <tr>\n",
       "      <th>1420798</th>\n",
       "      <td>ZYXI</td>\n",
       "      <td>4158</td>\n",
       "      <td>19.4400</td>\n",
       "      <td>19.4450</td>\n",
       "      <td>19.4450</td>\n",
       "      <td>19.4300</td>\n",
       "      <td>2020-10-07 19:56:00+00:00</td>\n",
       "      <td>55</td>\n",
       "    </tr>\n",
       "    <tr>\n",
       "      <th>1420799</th>\n",
       "      <td>ZYXI</td>\n",
       "      <td>2192</td>\n",
       "      <td>19.4450</td>\n",
       "      <td>19.4500</td>\n",
       "      <td>19.4500</td>\n",
       "      <td>19.4450</td>\n",
       "      <td>2020-10-07 19:57:00+00:00</td>\n",
       "      <td>48</td>\n",
       "    </tr>\n",
       "    <tr>\n",
       "      <th>1420800</th>\n",
       "      <td>ZYXI</td>\n",
       "      <td>4779</td>\n",
       "      <td>19.4500</td>\n",
       "      <td>19.4200</td>\n",
       "      <td>19.4500</td>\n",
       "      <td>19.4200</td>\n",
       "      <td>2020-10-07 19:58:00+00:00</td>\n",
       "      <td>114</td>\n",
       "    </tr>\n",
       "    <tr>\n",
       "      <th>1420801</th>\n",
       "      <td>ZYXI</td>\n",
       "      <td>8271</td>\n",
       "      <td>19.4196</td>\n",
       "      <td>19.4100</td>\n",
       "      <td>19.4200</td>\n",
       "      <td>19.3800</td>\n",
       "      <td>2020-10-07 19:59:00+00:00</td>\n",
       "      <td>104</td>\n",
       "    </tr>\n",
       "    <tr>\n",
       "      <th>1420802</th>\n",
       "      <td>ZYXI</td>\n",
       "      <td>6232</td>\n",
       "      <td>19.3800</td>\n",
       "      <td>19.3800</td>\n",
       "      <td>19.3800</td>\n",
       "      <td>19.3800</td>\n",
       "      <td>2020-10-07 20:00:00+00:00</td>\n",
       "      <td>12</td>\n",
       "    </tr>\n",
       "  </tbody>\n",
       "</table>\n",
       "<p>1420803 rows × 8 columns</p>\n",
       "</div>"
      ],
      "text/plain": [
       "        ticker  volume      open     close      high       low  \\\n",
       "0            A     714  101.6537  101.6537  101.6537  101.6537   \n",
       "1            A    9178  102.4700  102.4400  102.4700  102.4200   \n",
       "2            A     177  102.4900  102.4900  102.4900  102.4900   \n",
       "3            A     529  102.9250  102.9800  102.9800  102.9200   \n",
       "4            A    3206  102.8800  103.0000  103.0000  102.8400   \n",
       "...        ...     ...       ...       ...       ...       ...   \n",
       "1420798   ZYXI    4158   19.4400   19.4450   19.4450   19.4300   \n",
       "1420799   ZYXI    2192   19.4450   19.4500   19.4500   19.4450   \n",
       "1420800   ZYXI    4779   19.4500   19.4200   19.4500   19.4200   \n",
       "1420801   ZYXI    8271   19.4196   19.4100   19.4200   19.3800   \n",
       "1420802   ZYXI    6232   19.3800   19.3800   19.3800   19.3800   \n",
       "\n",
       "                     window_start  transactions  \n",
       "0       2020-10-07 13:09:00+00:00             1  \n",
       "1       2020-10-07 13:30:00+00:00            16  \n",
       "2       2020-10-07 13:31:00+00:00             8  \n",
       "3       2020-10-07 13:32:00+00:00            12  \n",
       "4       2020-10-07 13:33:00+00:00            67  \n",
       "...                           ...           ...  \n",
       "1420798 2020-10-07 19:56:00+00:00            55  \n",
       "1420799 2020-10-07 19:57:00+00:00            48  \n",
       "1420800 2020-10-07 19:58:00+00:00           114  \n",
       "1420801 2020-10-07 19:59:00+00:00           104  \n",
       "1420802 2020-10-07 20:00:00+00:00            12  \n",
       "\n",
       "[1420803 rows x 8 columns]"
      ]
     },
     "execution_count": 141,
     "metadata": {},
     "output_type": "execute_result"
    }
   ],
   "source": [
    "df1.info()\n",
    "df1"
   ]
  }
 ],
 "metadata": {
  "kernelspec": {
   "display_name": ".venv",
   "language": "python",
   "name": "python3"
  },
  "language_info": {
   "codemirror_mode": {
    "name": "ipython",
    "version": 3
   },
   "file_extension": ".py",
   "mimetype": "text/x-python",
   "name": "python",
   "nbconvert_exporter": "python",
   "pygments_lexer": "ipython3",
   "version": "3.12.5"
  }
 },
 "nbformat": 4,
 "nbformat_minor": 2
}
